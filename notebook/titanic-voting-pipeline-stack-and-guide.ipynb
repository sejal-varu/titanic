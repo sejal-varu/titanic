{
 "cells": [
  {
   "cell_type": "markdown",
   "metadata": {
    "_cell_guid": "4548d718-e57b-4ef2-9147-153595068395",
    "_uuid": "f88504033059bf7f60a94a9766bf7c3de44de058"
   },
   "source": [
    "# [Titanic Disaster Survival: A Supervised Learning Classification Problem](https://www.kaggle.com/nicapotato/titanic-voting-pipeline-stack-and-guide)\n",
    "_by Nick Brooks, November 2017_\n",
    "\n",
    "- [**Github**](https://github.com/nicapotato)\n",
    "- [**Kaggle**](https://www.kaggle.com/nicapotato/)\n",
    "- [**Linkedin**](https://www.linkedin.com/in/nickbrooks7)\n",
    "\n",
    "[Titanic Data Download Link on Kaggle](https://www.kaggle.com/c/titanic/data)\n",
    "\n",
    "## Methods:\n",
    "- Machine Learning\n",
    "- Randomized Tuning\n",
    "- Ensemble Voting\n",
    "- Pipelines\n",
    "- Stacking Models\n",
    "\n",
    "## Paradigms Discussed:\n",
    "- Generative and Discriminative Models\n",
    "- Nonparametric and Parametric Models\n",
    "- Unsupervised Learning: Dimensionality Reduction\n",
    "- Regularization"
   ]
  },
  {
   "cell_type": "markdown",
   "metadata": {
    "_cell_guid": "7f8ce823-ebc1-4c21-9c0b-454a04831291",
    "_uuid": "b100ea751642433e6a3bb8d26590b77259e7dc5c"
   },
   "source": [
    "***\n",
    "\n",
    "# Table of Content:\n",
    "\n",
    "**1. Preparation**\n",
    "    - 1.1 Introduction\n",
    "    - 1.2 Feature Engineering\n",
    "    - 1.3 Helper Functions\n",
    "**2. [Discriminative](#Discriminative) and [Non-Parametric](#Non-Parametric) Models**\n",
    "\n",
    "    -2.1 Introduction to Confusion Matrix\n",
    "    -2.2 K-Nearest Neighbors\n",
    "    -2.3 Stochastic Gradient Descent\n",
    "  \n",
    " **3. [Decision Trees](#Tree)**\n",
    "   \n",
    "    -3.1 Introduction to Feature Importance Graphic\n",
    "    -3.2 Ensemble Methods for Decision Trees\n",
    "    -3.3 Bootstrap Ensemble\n",
    "    -3.4 Random Forest\n",
    "    -3.5 Adaptive Boosting\n",
    "    -3.6 Gradient Boosting\n",
    "    -3.7 eXtreme Gradient Boosting [XGBOOST]\n",
    "    -3.8 CatBoost\n",
    "    -3.9 Light Gradient Boosting [LGBM]\n",
    "\n",
    "**4. [Parametric Models](#Parametric)**\n",
    "\n",
    "    -4.1 Logistic Regression\n",
    "    -4.15 Logistic Generalized Additive Model\n",
    "    -4.2 Feedforward Neural Network\n",
    "    -4.3 Introduction to Support Vector Classifier\n",
    "    -4.4 Linear Support Vector Classifier\n",
    "    -4.5 Radial Basis Function\n",
    "    -4.6 Pipeline and Principal Components Analysis\n",
    "\n",
    "**5. [Generative Parametric Models](#GPM)**\n",
    "\n",
    "    -5.1 Gaussian Naive Bayes\n",
    "\n",
    "**6. [Voting Ensembles](#Vote)**\n",
    "\n",
    "    -6.1 Voting Ensemble\n",
    "    -6.15 Meta Stacker\n",
    "    -6.2 Experimental Accuracy Matrix\n",
    "    -6.3 Logistic Stacker\n",
    "    -6.4 LGBM Stacker\n",
    "    \n",
    "**7. [Results](#TOR)**\n",
    "\n",
    "    -7.1 Reflection"
   ]
  },
  {
   "cell_type": "markdown",
   "metadata": {
    "_cell_guid": "dcf2467d-c36f-40d3-af9a-5a19178dfe8d",
    "_uuid": "c72cf4ebb37b999dfa71985a68555c54f6e99ce6"
   },
   "source": [
    "# Introduction\n",
    "<a id=\"Intro\"></a>\n",
    "\n",
    "**Outsiders introduction to the Titanic Machine Learning Challenge:** <br>\n",
    "The Titanic Disaster Dataset is based on the sinking of the RMS Titanic on April 14 1912, the largest passenger liner at the time. 1500 out of 2224 of the passengers died in the disaster. The dataset is a collection of the passenger’s name, demographics, cabin class, ticket price, port boarded, and family information. Out of the 2224 passengers onboard, only 1237 are included in the dataset. Out of this 1237, only 891 of the passengers have their fate in the disaster declared. So, whether 418 passengers died or survived is an artificial mystery!\n",
    "\n",
    "Within Machine learning, Supervised Learning is the process of enabling a computer algorithm to model a set of characteristics to a certain outcome. In the case of this project, the characteristics are the information on each passenger (as stated in the last paragraph), and the outcome is whether the passenger died. It is called *Supervised* because the model learns the relationship by studying characteristic and their outcome of similar events, with the goal of figuring out the outcome of unlabeled event. In this case, the 418 passengers whose outcome is not known. This challenge is the quintessential supervised classification problem, and has served to introduce many to this craft, which has many powerful applications in the real world.\n",
    "\n",
    "\n",
    "** What I will cover:** <br>\n",
    "The goal of this notebook is to showcase the wide range of models available through the Sklearn wrapper and how to tune them using randomized search. *Note:* In practice, it is usually better to focus one’s energy on a single high performance model, and thoroughly develop its hyperparameters, and of course ensure quality feature selection and engineering. But that is not the goal of this notebook!\n",
    "\n",
    "Since such a range of models are explored, I also take the opportunity to explain the axis through which these models differ: **Parametric vs Non-Parametric**, and **Generative vs. Discriminative**\n",
    "\n",
    "At the end, I also add more flavor to the modeling process by including **Ensemble Voting**, **Pipelining Dimensionality Reduction**, and **Stacking**."
   ]
  },
  {
   "cell_type": "code",
   "execution_count": null,
   "metadata": {
    "_cell_guid": "e409fef3-da85-411c-aa4c-56a7c35144d1",
    "_uuid": "ba80089e77bca134506998d8e4c0c42ad95a2325",
    "collapsed": true
   },
   "outputs": [],
   "source": [
    "# General Packages\n",
    "import pandas as pd\n",
    "import numpy as np\n",
    "import random as rnd\n",
    "import os\n",
    "import re\n",
    "import itertools\n",
    "# import multiprocessing\n",
    "\n",
    "# Visualization\n",
    "import seaborn as sns\n",
    "import matplotlib.pyplot as plt\n",
    "get_ipython().magic('matplotlib inline')\n",
    "plt.rcParams['figure.figsize'] = (8, 6)\n",
    "import scikitplot as skplt\n",
    "\n",
    "# Supervised Machine Learning Models\n",
    "from sklearn.linear_model import LogisticRegression\n",
    "from sklearn.naive_bayes import GaussianNB\n",
    "from sklearn.svm import SVC, LinearSVC\n",
    "from sklearn.ensemble import RandomForestClassifier, AdaBoostClassifier, BaggingClassifier, GradientBoostingClassifier\n",
    "from sklearn.tree import DecisionTreeClassifier\n",
    "from sklearn.neighbors import KNeighborsClassifier\n",
    "from sklearn.naive_bayes import GaussianNB\n",
    "from sklearn.linear_model import Perceptron, SGDClassifier\n",
    "from sklearn.neural_network import MLPClassifier\n",
    "from sklearn import feature_selection\n",
    "import xgboost as xgb # XGBOOST\n",
    "from xgboost.sklearn import XGBClassifier # XGBOOST\n",
    "import hyperopt #CatBoost\n",
    "from catboost import Pool, CatBoostClassifier #CatBoost\n",
    "import lightgbm as lgb # Light GBM\n",
    "import statsmodels.api as sm # Logistic Regression with StatModels\n",
    "\n",
    "# Unsupervised Models\n",
    "from sklearn.decomposition import PCA\n",
    "\n",
    "# Evalaluation\n",
    "from sklearn.model_selection import train_test_split\n",
    "from sklearn import metrics\n",
    "from sklearn.model_selection import cross_val_score\n",
    "from sklearn.metrics import confusion_matrix, roc_curve, auc, accuracy_score\n",
    "\n",
    "# Grid\n",
    "from sklearn.preprocessing import StandardScaler\n",
    "from sklearn.model_selection import StratifiedShuffleSplit\n",
    "from sklearn.feature_selection import RFE\n",
    "from sklearn.model_selection import GridSearchCV\n",
    "from sklearn.model_selection import RandomizedSearchCV\n",
    "import scipy.stats as st\n",
    "\n",
    "# Pipeline\n",
    "from sklearn.pipeline import make_pipeline\n",
    "from sklearn.pipeline import Pipeline\n",
    "\n",
    "# Esemble Voting\n",
    "from mlxtend.classifier import EnsembleVoteClassifier\n",
    "from sklearn import metrics\n",
    "from sklearn.metrics import classification_report, accuracy_score\n",
    "\n",
    "# Stacking\n",
    "from sklearn.preprocessing import StandardScaler\n",
    "from sklearn import metrics\n",
    "from matplotlib.colors import ListedColormap\n",
    "\n",
    "# Warnings\n",
    "import warnings\n",
    "warnings.filterwarnings(action='ignore')\n",
    "warnings.filterwarnings(action='ignore', category=DeprecationWarning)\n",
    "warnings.filterwarnings(action='ignore', category=FutureWarning)\n",
    "\n",
    "import time\n",
    "import datetime\n",
    "import platform\n",
    "start = time.time()"
   ]
  },
  {
   "cell_type": "code",
   "execution_count": null,
   "metadata": {
    "_cell_guid": "24b2d790-c293-4c13-aa53-282c8aa5436e",
    "_uuid": "76c9188576851a7fc073b7f65e6dc95808e4986b",
    "collapsed": true
   },
   "outputs": [],
   "source": [
    "print('Version      :', platform.python_version())\n",
    "print('Compiler     :', platform.python_compiler())\n",
    "print('Build        :', platform.python_build())\n",
    "\n",
    "print(\"\\nCurrent date and time using isoformat:\")\n",
    "print(datetime.datetime.now().isoformat())"
   ]
  },
  {
   "cell_type": "code",
   "execution_count": null,
   "metadata": {
    "_cell_guid": "47f34d35-07bd-4de3-b175-90d33f29d8e8",
    "_uuid": "bfb8992d40d832cb912f8edcf3f2d77dbf4bac25",
    "collapsed": true
   },
   "outputs": [],
   "source": [
    "# Write model submissions?\n",
    "save = True\n",
    "n_row = None\n",
    "debug = False\n",
    "if debug is True: n_row = 80\n",
    "\n",
    "# Master Parameters:\n",
    "n_splits = 2 # Cross Validation Splits\n",
    "n_iter = 70 # Randomized Search Iterations\n",
    "scoring = 'accuracy' # Model Selection during Cross-Validation\n",
    "rstate = 27 # Random State used \n",
    "testset_size = 0.35\n",
    "\n",
    "# Boosting rounds\n",
    "num_rounds = 800\n",
    "\n",
    "# Trees Parameters\n",
    "n_tree_range = st.randint(100, num_rounds)"
   ]
  },
  {
   "cell_type": "markdown",
   "metadata": {
    "_cell_guid": "8fc9e44b-c730-4551-9e20-c60d9d8e9889",
    "_uuid": "81cd0a6d70fa71295ecb6499c378ad1df6fd2153"
   },
   "source": [
    "## Loading and Pre-Processing\n",
    "### Cleaning:\n",
    "- Category to Numerical representation\n",
    "- Dealing with Missing Values, and Filling NA\n",
    "\n",
    "\n",
    "### Feature Engineering:\n",
    "<a id=\"FE\"></a>\n",
    "- Extracting Titles from name variable to use as feature\n",
    "- Rescaling continuous variables"
   ]
  },
  {
   "cell_type": "code",
   "execution_count": null,
   "metadata": {
    "_cell_guid": "8884dc6a-afd6-4366-b92a-ad6872674bb9",
    "_uuid": "9028d07271466839d23dcf8b506a7acb7a7a56a1",
    "collapsed": true
   },
   "outputs": [],
   "source": [
    "# Load\n",
    "train_df = pd.read_csv(\"../input/train.csv\", index_col='PassengerId', nrows=n_row)\n",
    "test_df = pd.read_csv(\"../input/test.csv\", index_col='PassengerId', nrows=n_row)\n",
    "# train_df = pd.read_csv(\"Titanic Support/train.csv\", index_col='PassengerId')\n",
    "# test_df = pd.read_csv(\"Titanic Support/test.csv\", index_col='PassengerId')\n",
    "\n",
    "# For Pre-Processing, combine train/test to simultaneously apply transformations\n",
    "Survived = train_df['Survived'].copy()\n",
    "train_df = train_df.drop('Survived', axis=1).copy()\n",
    "df = pd.concat([test_df, train_df])\n",
    "traindex = train_df.index\n",
    "testdex = test_df.index\n",
    "del train_df\n",
    "del test_df\n",
    "\n",
    "# New Variables engineering, heavily influenced by:\n",
    "# Kaggle Source- https://www.kaggle.com/arthurtok/introduction-to-ensembling-stacking-in-python\n",
    "# Family Size\n",
    "df['FamilySize'] = df['SibSp'] + df['Parch'] + 1\n",
    "# Name Length\n",
    "df['Name_length'] = df['Name'].apply(len)\n",
    "# Is Alone?\n",
    "df['IsAlone'] = 0\n",
    "df.loc[df['FamilySize'] == 1, 'IsAlone'] = 1\n",
    "\n",
    "# Title: (Source)\n",
    "# Kaggle Source- https://www.kaggle.com/ash316/eda-to-prediction-dietanic\n",
    "df['Title']=0\n",
    "df['Title']=df.Name.str.extract('([A-Za-z]+)\\.') #lets extract the Salutations\n",
    "df['Title'].replace(['Mlle','Mme','Ms','Dr','Major','Lady','Countess','Jonkheer','Col','Rev','Capt','Sir','Don'],\n",
    "                    ['Miss','Miss','Miss','Mr','Mr','Mrs','Mrs','Other','Other','Other','Mr','Mr','Mr'],inplace=True)\n",
    "\n",
    "# Age\n",
    "df.loc[(df.Age.isnull())&(df.Title=='Mr'),'Age']= df.Age[df.Title==\"Mr\"].mean()\n",
    "df.loc[(df.Age.isnull())&(df.Title=='Mrs'),'Age']= df.Age[df.Title==\"Mrs\"].mean()\n",
    "df.loc[(df.Age.isnull())&(df.Title=='Master'),'Age']= df.Age[df.Title==\"Master\"].mean()\n",
    "df.loc[(df.Age.isnull())&(df.Title=='Miss'),'Age']= df.Age[df.Title==\"Miss\"].mean()\n",
    "df.loc[(df.Age.isnull())&(df.Title=='Other'),'Age']= df.Age[df.Title==\"Other\"].mean()\n",
    "df = df.drop('Name', axis=1)\n",
    "\n",
    "# Fill NA\n",
    "# Categoricals Variable\n",
    "df['Embarked'] = df['Embarked'].fillna(df['Embarked'].mode().iloc[0])\n",
    "\n",
    "# Continuous Variable\n",
    "df['Fare'] = df['Fare'].fillna(df['Fare'].mean())\n",
    "\n",
    "## Assign Binary to Sex str\n",
    "df['Sex'] = df['Sex'].map({'female': 1,\n",
    "                           'male': 0}).astype(int)\n",
    "# Title\n",
    "df['Title'] = df['Title'].map( {'Mr': 0, 'Mrs': 1, 'Miss': 2, 'Master':3, 'Other':4} )#.astype(int)\n",
    "df['Title'] = df['Title'].fillna(df['Title'].mode().iloc[0])\n",
    "df['Title'] = df['Title'].astype(int)\n",
    "\n",
    "# Embarked\n",
    "df['Embarked'] = df['Embarked'].map( {'Q': 0, 'S': 1, 'C': 2} ).astype(int)\n",
    "\n",
    "# Get Rid of Ticket and Cabin Variable\n",
    "df= df.drop(['Ticket', 'Cabin'], axis=1)\n",
    "\n",
    "categorical_features = [\"Pclass\",\"Sex\",\"IsAlone\",\"Title\", \"Embarked\"]"
   ]
  },
  {
   "cell_type": "code",
   "execution_count": null,
   "metadata": {
    "_cell_guid": "9678a8d0-5b48-4b40-8d78-331194eb9229",
    "_uuid": "8256de4d12490592615cba828f27821ba10dd989",
    "collapsed": true
   },
   "outputs": [],
   "source": [
    "df.head()"
   ]
  },
  {
   "cell_type": "markdown",
   "metadata": {
    "_cell_guid": "95c266f7-6de2-4f1e-a5b7-988e8de1534d",
    "_uuid": "e68b8d6ee81c2cc4f41961f64d02059ffb49f358"
   },
   "source": [
    "### Visualization\n",
    "Before Applying dummy variables, I take the opportunity to look at distributions and correlations."
   ]
  },
  {
   "cell_type": "code",
   "execution_count": null,
   "metadata": {
    "_cell_guid": "d1073ee4-a864-44d4-9383-267bf468bc8d",
    "_uuid": "c7b4dcfdd52331f31e9b67a06cec7f25cf0a11ae",
    "collapsed": true
   },
   "outputs": [],
   "source": [
    "# Histogram\n",
    "pd.concat([df.loc[traindex, :], Survived], axis=1).hist()\n",
    "plt.tight_layout(pad=0)\n",
    "plt.show()"
   ]
  },
  {
   "cell_type": "code",
   "execution_count": null,
   "metadata": {
    "_cell_guid": "b6831126-ccc5-4807-93b2-ee6ba2e96e8e",
    "_uuid": "adf1525f473d044e04ffb8c4e8e67c7dcc1f0d9b",
    "collapsed": true
   },
   "outputs": [],
   "source": [
    "# Correlation Plot\n",
    "f, ax = plt.subplots(figsize=[8,6])\n",
    "sns.heatmap(pd.concat([df.loc[traindex, :], Survived], axis=1).corr(),\n",
    "            annot=True, fmt=\".2f\",cbar_kws={'label': 'Percentage %'},cmap=\"plasma\",ax=ax)\n",
    "ax.set_title(\"Correlation Plot\")\n",
    "plt.show()"
   ]
  },
  {
   "cell_type": "code",
   "execution_count": null,
   "metadata": {
    "_cell_guid": "f2560b09-77f1-42d9-bccd-6dbd942d1170",
    "_uuid": "4370ebb22f71ecf7fa06235a0038d1750008857d",
    "collapsed": true
   },
   "outputs": [],
   "source": [
    "# Scaling between -1 and 1. Good practice for continuous variables.\n",
    "from sklearn import preprocessing\n",
    "continuous_features = ['Fare','Age','Name_length']\n",
    "for col in continuous_features:\n",
    "    transf = df[col].values.reshape(-1,1)\n",
    "    scaler = preprocessing.StandardScaler().fit(transf)\n",
    "    df[col] = scaler.transform(transf)\n",
    "\n",
    "# Finish Pre-Processing\n",
    "# Dummmy Variables (One Hot Encoding)\n",
    "#df = pd.get_dummies(df, columns=['Embarked','Title','Parch','SibSp','Pclass'], )\n",
    "\n",
    "# Now that pre-processing is complete, split data into train/test again.\n",
    "train_df = df.loc[traindex, :]\n",
    "train_df['Survived'] = Survived\n",
    "test_df = df.loc[testdex, :]\n",
    "\n",
    "# Dead Weight\n",
    "del df"
   ]
  },
  {
   "cell_type": "markdown",
   "metadata": {
    "_cell_guid": "fd57c3c4-f775-4258-9381-02ef7ab14b61",
    "_uuid": "374e46c3750886b20eb1f5e9fd123e1aefd92e11"
   },
   "source": [
    "## Take Your Position!\n",
    "Declaring dependent and independent variables as well as helper functions that record the mean cross-validation average of model accuracy, and its standard deviation to understand the volatility of the models.\n",
    "\n",
    "Also includes remnants of my previous \"write submission\" system for those interested."
   ]
  },
  {
   "cell_type": "code",
   "execution_count": null,
   "metadata": {
    "_cell_guid": "1423e13d-7dc6-494f-a169-d3457c69aa28",
    "_uuid": "8d36fe654483cda5d183303f1c6d84075c42486d",
    "collapsed": true
   },
   "outputs": [],
   "source": [
    "# Depedent and Indepedent Variables\n",
    "X = train_df.drop([\"Survived\"] , axis=1)\n",
    "y = train_df[\"Survived\"]\n",
    "print(\"X, Y, Test Shape:\",X.shape, y.shape, test_df.shape) # Data Dimensions\n",
    "\n",
    "# Storage for Model and Results\n",
    "results = pd.DataFrame(columns=['Model','Para','Test_Score','CV Mean','CV STDEV'])\n",
    "ensemble_models= {}"
   ]
  },
  {
   "cell_type": "markdown",
   "metadata": {
    "_cell_guid": "4f0914a9-fc1f-427d-b2fe-e2fdfd1f11e7",
    "_uuid": "361c07725168cb57595ac3d5ac8a43ecda484e11"
   },
   "source": [
    "## Imbalanced Dependent Variable\n",
    "This signifies that there is an unequal occurrence of the dependent variable \"Survived\". This could potentially lead to a flawed model. I deal with this by stratifying the train/test groups, leading to equal representation of classes. Additional methods to handle imbalanced datasets include data augmentation and re-sampling methods."
   ]
  },
  {
   "cell_type": "code",
   "execution_count": null,
   "metadata": {
    "_cell_guid": "26204032-663b-4470-9376-202c289de61d",
    "_uuid": "70ddbd42aae21457acc5f48eaed0178258de2b04",
    "collapsed": true
   },
   "outputs": [],
   "source": [
    "print(\"Depedent Variable Distribution\")\n",
    "print(y.value_counts(normalize=True)*100)\n",
    "print(\"0 = Died\", \"\\n1 = Survived\")"
   ]
  },
  {
   "cell_type": "code",
   "execution_count": null,
   "metadata": {
    "_cell_guid": "c5bbba14-13d8-4ded-ae6e-abfe2b5c8b46",
    "_uuid": "58550310a1df0de0c4c53fa6f2275901f1051557",
    "collapsed": true
   },
   "outputs": [],
   "source": [
    "# Calculating level of imbalance for future models.\n",
    "imbalance_weight = y.value_counts(normalize=True)[0]/y.value_counts(normalize=True)[1]\n",
    "print(\"Imbalance Weight: \",imbalance_weight)"
   ]
  },
  {
   "cell_type": "markdown",
   "metadata": {
    "_cell_guid": "dc4e251b-4810-4977-84e6-0f3886e98493",
    "_uuid": "703959dc75a5d104d4e50d1e88cdf4ed136af8c6"
   },
   "source": [
    "# Understanding Feature Importance\n",
    "- Dimensionality Reduction with [Principal Component Analysis](https://machinelearningmastery.com/feature-selection-machine-learning-python/)\n",
    "- Statistically Selecting Best Features with [SelectKBest](http://scikit-learn.org/stable/modules/generated/sklearn.feature_selection.SelectKBest.html)\n",
    "\n",
    "### Dimensionality Reduction: Principal Components"
   ]
  },
  {
   "cell_type": "code",
   "execution_count": null,
   "metadata": {
    "_cell_guid": "4726d040-f2a2-4de5-8bc6-a8001e72575f",
    "_uuid": "99f988789329efccc109846af58b3c01908b8551",
    "collapsed": true
   },
   "outputs": [],
   "source": [
    "print(\"Feature Count (With One Hot Encoding):\", X.shape[1])"
   ]
  },
  {
   "cell_type": "code",
   "execution_count": null,
   "metadata": {
    "_cell_guid": "a3bf49e1-d41d-43a0-b013-4c35c26ef373",
    "_uuid": "f76cf84fea74d7b30660c59f05c11dce7c9d0b71",
    "collapsed": true
   },
   "outputs": [],
   "source": [
    "levels = [2,4,6,8,10,12]\n",
    "for x in levels:\n",
    "    pca = PCA(n_components=x)\n",
    "    fit = pca.fit(train_df)\n",
    "\n",
    "    print((\"{} Components \\nExplained Variance: {}\\n\").format(x, fit.explained_variance_ratio_))\n",
    "    #print(fit.components_)"
   ]
  },
  {
   "cell_type": "code",
   "execution_count": null,
   "metadata": {
    "_cell_guid": "dc791891-306d-4f94-a44a-9fae39ff303b",
    "_kg_hide-output": true,
    "_uuid": "ed5e2aa39440f6fca7181badde65d84f1c402f23",
    "collapsed": true
   },
   "outputs": [],
   "source": [
    "\"\"\"\n",
    "# Reduce Dimensionality\n",
    "pca = PCA(n_components=5)\n",
    "fit = pca.fit(X)\n",
    "\n",
    "sns.heatmap(pd.concat([pd.DataFrame(fit.transform(X)), Survived],\n",
    "                      axis=1).corr(), annot=True, fmt=\".2f\")\n",
    "# Apply Reduction\n",
    "X = pd.DataFrame(fit.transform(X))\n",
    "test_df = pd.DataFrame(fit.transform(test_df))\n",
    "\n",
    "No longer applied to dataset since performance did not get substancially improved.\n",
    "Better just use method at an individual basis, through the pipeline method.\n",
    "\"\"\""
   ]
  },
  {
   "cell_type": "markdown",
   "metadata": {
    "_cell_guid": "bb1f7148-af37-4f8f-a93c-c8821368b2a3",
    "_uuid": "b1f99c9da6b396d057031809b6cd1ecfab359a35"
   },
   "source": [
    "## Train/Test Split\n",
    "Declaring dependent and independent variables, as well as preparing the training data into its train-validation-test sets for proper modelling. My validation step is executed during the model fitting process.\n",
    "\n",
    "_Note:_ Determining model quality through cross-validation is not correct if hyper-parameter tuning is applied, since this leads to a (hyper-parameter) overfitted evaluation of the model. Use an additional untouched test set.\n",
    "\n",
    "Stratified cross validation splits are used. Number of splits is declared at the start of notebook."
   ]
  },
  {
   "cell_type": "code",
   "execution_count": null,
   "metadata": {
    "_cell_guid": "95af78b2-2df8-46b8-9f37-70ad14993211",
    "_uuid": "c4b0ce96776e03250416c897b4cc4d5c60bd4a8d",
    "collapsed": true
   },
   "outputs": [],
   "source": [
    "# Stratified Train/Test Split\n",
    "X_train, X_test, y_train, y_test = train_test_split(X, y, test_size=testset_size, stratify=y,random_state=rstate)\n",
    "X_train.shape, y_train.shape, X_test.shape, y_test.shape\n",
    "\n",
    "# Stratified Cross-Validation\n",
    "cv = StratifiedShuffleSplit(n_splits=n_splits, test_size=0.2, random_state=rstate)"
   ]
  },
  {
   "cell_type": "markdown",
   "metadata": {
    "_cell_guid": "28f0c48c-79ac-4ab1-bc72-6da8f664e9f7",
    "_uuid": "5a8408804238fc58f1f6824ba06c7eadba9f056e"
   },
   "source": [
    "## Helper Functions\n",
    "<a id=\"HF\"></a>"
   ]
  },
  {
   "cell_type": "code",
   "execution_count": null,
   "metadata": {
    "_cell_guid": "6270ac50-917f-471a-87e9-9df52d3049e0",
    "_uuid": "6811110a16c1ba9e74f46970879be039ee50a705",
    "collapsed": true
   },
   "outputs": [],
   "source": [
    "# Compute, Print, and Save Model Evaluation\n",
    "def save(model, modelname):\n",
    "    \"\"\"\n",
    "    This funciton saves the cross-validation and held-out (Test Set) accuracy scores aswell as their standard deviations\n",
    "    to the \"results\" dataframe, then it executes the model prediction on the submission set.\n",
    "    Finally, it also outputs a confusion matrix of the test set.\n",
    "    \n",
    "    Function Arguments:\n",
    "    model = The Sklearn Randomized/Grid SearchCV model.\n",
    "    modelname = String of the model name for saving purposes.\n",
    "    \"\"\"\n",
    "    global results\n",
    "    # Once best model is found, establish more evaluation metrics.\n",
    "    model.best_estimator_.fit(X_train, y_train)\n",
    "    scores = cross_val_score(model.best_estimator_, X_train, y_train, cv=5,\n",
    "                             scoring=scoring, verbose =0)\n",
    "    CV_scores = scores.mean()\n",
    "    STDev = scores.std()\n",
    "    Test_scores = model.score(X_test, y_test)\n",
    "\n",
    "    # CV and Save scores\n",
    "    results = results.append({'Model': modelname,'Para': model.best_params_,'Test_Score': Test_scores,\n",
    "                             'CV Mean':CV_scores, 'CV STDEV': STDev}, ignore_index=True)\n",
    "    ensemble_models[modelname] = model.best_estimator_\n",
    "    \n",
    "    # Print Evaluation\n",
    "    print(\"\\nEvaluation Method: {}\".format(scoring))\n",
    "    print(\"Optimal Model Parameters: {}\".format(grid.best_params_))\n",
    "    print(\"Train CV Accuracy: %0.2f (+/- %0.2f) [%s]\" % (CV_scores, STDev, modelname))\n",
    "    print('Test_Score:', Test_scores)\n",
    "        \n",
    "    # Scikit Confusion Matrix\n",
    "    model.best_estimator_.fit(X_train, y_train)\n",
    "    pred = model.predict(X_test)\n",
    "    skplt.metrics.plot_confusion_matrix(y_test, pred, title=\"{} Confusion Matrix\".format(modelname),\n",
    "                normalize=True,figsize=(6,6),text_fontsize='large')\n",
    "    plt.show()\n",
    "    # Colors https://matplotlib.org/examples/color/colormaps_reference.html\n",
    "\n",
    "def norm_save(model,score, modelname):\n",
    "    global results\n",
    "    model.fit(X, y)\n",
    "    submission = model.predict(test_df)\n",
    "    df = pd.DataFrame({'PassengerId':test_df.index, \n",
    "                           'Survived':submission})\n",
    "    \n",
    "    CV_Score = score.mean()\n",
    "    Test_scores = model.score(X_test, y_test)\n",
    "    STDev = score.std()\n",
    "    \n",
    "    # CV and Save Scores\n",
    "    Test_Score = model.score(X_test, y_test)\n",
    "    results = results.append({'Model': modelname,'Para': model,'Test_Score': Test_scores,\n",
    "                             'CV Mean': CV_Score, 'CV STDEV': STDev}, ignore_index=True)\n",
    "    ensemble_models[modelname] = model\n",
    "    \n",
    "    print(\"\\nEvaluation Method: {}\".format(scoring))\n",
    "    print(\"Train CV Accuracy: %0.2f (+/- %0.2f) [%s]\" % (CV_Score, STDev, modelname))  \n",
    "    print('Test_Score:', Test_scores)\n",
    "        \n",
    "    #Scikit Confusion Matrix\n",
    "    model.fit(X_train, y_train)\n",
    "    pred = model.predict(X_test)\n",
    "    skplt.metrics.plot_confusion_matrix(y_test, pred, title=\"{} Confusion Matrix\".format(modelname),\n",
    "                normalize=True,figsize=(6,6),text_fontsize='large')\n",
    "    plt.show()\n",
    "    \n",
    "# ROC Curve Plot\n",
    "# http://scikit-plot.readthedocs.io/en/stable/metrics.html\n",
    "def eval_plot(model):\n",
    "    skplt.metrics.plot_roc_curve(y_test, model.predict_proba(X_test))\n",
    "    plt.show()"
   ]
  },
  {
   "cell_type": "markdown",
   "metadata": {
    "_cell_guid": "fd4de5a7-9346-4f89-b10d-1c08446fa4be",
    "_uuid": "126bc66190a99649d88c5615dd44ebac889051e2"
   },
   "source": [
    "# Non-Parametric\n",
    "<a id=\"Non-Parametric\"></a>\n",
    "Counterpart to Parametric models, Parametric models does not make any assumptions about the data generating process’ distribution. For example, in statistical test, Non-Parametric models utilize rank and medians, instead of the mean and variance! On the other hand, they function in a infinite space of parameters, making their name counter-intuitive, but also highlighting their practical approach to representation; enabling them to increase their flexibility indefinitely."
   ]
  },
  {
   "cell_type": "markdown",
   "metadata": {
    "_cell_guid": "7c1394ae-b9c8-4a09-bc37-86ce85b41cf4",
    "_uuid": "9419282f5c41404e010d4de059bae47f49de28ba"
   },
   "source": [
    "# Discriminative Models\n",
    "<a id=\"Discriminative\"></a>\n",
    "Discriminative models do not attempt to quantify how the data generating process operates, instead, its goal is to slice and dice the data to classify the dependent variable, effectively solving the problem by modeling p(y|x). \n",
    "\n",
    "## K-Nearest Neighbors\n",
    "<a id=\"KNN\"></a>\n",
    "The simplest of all machine learning models, a nonparametric method that works well on short and narrow datasets, but seriously struggles in the high dimensional space. It works by using the *K* nearest point to the predicted point then votes on its class (or continuous number when in the regression context). Note: Since this is a instance based learning algorithm, its function is applied locally, and the computation is deferred until the prediction stage. Furthermore, since the data serves as the “map” for new values, the model size may be clunkier than its counterparts. "
   ]
  },
  {
   "cell_type": "code",
   "execution_count": null,
   "metadata": {
    "_cell_guid": "336f9c2e-4666-4716-b2ee-d64b52f33455",
    "_uuid": "276d563f264d416d7de0225c9c8e738f85374c62",
    "collapsed": true
   },
   "outputs": [],
   "source": [
    "# Hyper parameters. Since RandomizedSearchCV is used, I use an uniform random interger range for the function to choose from.\n",
    "param_grid ={'n_neighbors': st.randint(1,40),\n",
    "             # Increasing this value reduces bias, and increases variance. Don't Overfit!\n",
    "            'weights':['uniform','distance']\n",
    "            }\n",
    "# Hyper-Parameter Tuning with Cross-Validation\n",
    "grid = RandomizedSearchCV(KNeighborsClassifier(),\n",
    "                    param_grid, # Hyper Parameters\n",
    "                    cv=cv, # Cross-Validation splits. Stratified.\n",
    "                    scoring=scoring, # Best-Validation selection metric.\n",
    "                    verbose=1, # Quality of Life. Frequency of model updates\n",
    "                    n_iter=n_iter, # Number of hyperparameter combinations tried.\n",
    "                    random_state=rstate) # Reproducibility \n",
    "\n",
    "# Execute Tuning on entire dataset\n",
    "grid.fit(X_train, y_train)\n",
    "save(grid, \"KNN\")"
   ]
  },
  {
   "cell_type": "markdown",
   "metadata": {
    "_cell_guid": "5f0d3a69-459f-426b-94df-d4f1af801d7f",
    "_uuid": "86ec15b48e267790681e0b059fb335f354916ffc"
   },
   "source": [
    "## Introduction to Confusion Matrix\n",
    "<a id=\"Conf\"></a>\n",
    "\n",
    "This graphic illustrates the nature of the model mistakes by showing the proportion of false negatives to true negatives, and false positives to true positives. Method is also applicable to results with more than just a binary class.\n",
    "\n",
    "- **False Negative:** When the model labels a positive observation as negative. For example, when the doctor thinks a pregnant women is not pregnant.\n",
    "- **False Positive:** When a negative observation is predicted to be positive. When a healthy man is (falsely) told he has cancer.\n",
    "\n",
    "For the type of sensitive problem described in my examples, model builders may emphasize the minimization of one form of error over the other. We may be more willing to tell healthy person they falsely have cancer, than tell a dying person they have nothing to worry about, and miss the opportunity to receive treatment. \n"
   ]
  },
  {
   "cell_type": "markdown",
   "metadata": {
    "_cell_guid": "bfb3cacb-971a-4291-8620-906b66a1dd3e",
    "_uuid": "ba699d9f073abb178603ee0248a66ea10a4d6566"
   },
   "source": [
    "### Stochastic Gradient Descent\n",
    "<a id=\"SGD\"></a>\n",
    "\n",
    "ERROR 404. Adding.. Beep Bop"
   ]
  },
  {
   "cell_type": "code",
   "execution_count": null,
   "metadata": {
    "_cell_guid": "128e1ec6-7476-4e94-a666-a0abcaccd07e",
    "_uuid": "5045cc880e5ff1cd3e7ef9ecc1e59827b401874c",
    "collapsed": true
   },
   "outputs": [],
   "source": [
    "SGDClassifier().get_params().keys()"
   ]
  },
  {
   "cell_type": "code",
   "execution_count": null,
   "metadata": {
    "_cell_guid": "50bec1c5-c61c-4af6-a238-01f4d7e59d79",
    "_uuid": "5c62944d7d8db5ab6f8bb9400c76702bcbf2f6eb",
    "collapsed": true
   },
   "outputs": [],
   "source": [
    "param_grid ={'loss':[\"hinge\",\"log\",\"modified_huber\",\"epsilon_insensitive\",\"squared_epsilon_insensitive\"]}\n",
    "\n",
    "grid = GridSearchCV(SGDClassifier(max_iter=5, tol=None),\n",
    "                    param_grid,cv=cv, scoring=scoring,\n",
    "                    verbose=1)\n",
    "\n",
    "grid.fit(X_train, y_train)\n",
    "save(grid, \"StochasticGradientDescent\")"
   ]
  },
  {
   "cell_type": "markdown",
   "metadata": {
    "_cell_guid": "970322a7-7622-4e35-b4cb-59002b92b5a5",
    "_uuid": "b1fa34d765e065bccc4bfd9da3398942afe64015"
   },
   "source": [
    "# Decision Trees\n",
    "<a id=\"Tree\"></a>\n",
    "I like to think of decision trees as optimizing a series of “If/Then” statements, eventually assigning the value at the tree’s terminal node. Starting from one point at the top, features can then pass the various trials until being assigned its class at the end “leaf” nodes of the tree (technically, it's more like its root tip since the end nodes are visually represented at the bottom of the graph). Trees used here are binary trees, so nodes can only split into two ways."
   ]
  },
  {
   "cell_type": "code",
   "execution_count": null,
   "metadata": {
    "_cell_guid": "dabb7d2c-177e-4b8e-a561-48c4ec93d2fc",
    "_uuid": "892f483b01ad4e9eea0143aecff29599436d60ce",
    "collapsed": true
   },
   "outputs": [],
   "source": [
    "# Helper Function to visualize feature importance\n",
    "plt.rcParams['figure.figsize'] = (8, 4)\n",
    "predictors = [x for x in X.columns if x not in ['Survived']]\n",
    "def feature_imp(model):\n",
    "    MO = model.fit(X_train, y_train)\n",
    "    feat_imp = pd.Series(MO.feature_importances_, predictors).sort_values(ascending=False)\n",
    "    feat_imp.plot(kind='bar', title='Feature Importances')\n",
    "    plt.ylabel('Feature Importance Score')"
   ]
  },
  {
   "cell_type": "code",
   "execution_count": null,
   "metadata": {
    "_cell_guid": "d82a235f-3b8c-454a-8046-ee898b135b88",
    "_uuid": "53ae000ca8ed0fbd088738768319863657fd9808",
    "collapsed": true
   },
   "outputs": [],
   "source": [
    "DecisionTreeClassifier().get_params().keys()"
   ]
  },
  {
   "cell_type": "markdown",
   "metadata": {
    "_cell_guid": "affd1f08-ed4e-4b1e-ac8c-3b38287ecd6e",
    "_uuid": "d06118dad86ee5fac9d2e0132581fa2042011cc3"
   },
   "source": [
    "## Introduction to Feature Importance Graphic\n",
    "<a id=\"FIG\"></a>\n",
    "Since each split in the decision tree distinguishes the dependent variable, splits closer to the root, aka starting point, have optimally been determined to have the greatest splitting effect. The feature importance graphic measures how much splitting impact each feature has. It is important to note that this by no means points to causality, but just like in hierarchical clustering, does point to a nebulous groups. Furthermore, for ensemble tree methods, feature impact is aggregated over all the trees. "
   ]
  },
  {
   "cell_type": "code",
   "execution_count": null,
   "metadata": {
    "_cell_guid": "dda87ef5-a52a-4b08-bd70-3ca5ac5d2693",
    "_uuid": "a587ec2b092c0dfd9d510a81160d92ab485bcc9e",
    "collapsed": true
   },
   "outputs": [],
   "source": [
    "# Baseline Decision Tree\n",
    "tree = DecisionTreeClassifier()\n",
    "print(\"Mean CV Accuracy:\",cross_val_score(tree, X, y, cv=cv, scoring=scoring).mean())\n",
    "feature_imp(tree)"
   ]
  },
  {
   "cell_type": "code",
   "execution_count": null,
   "metadata": {
    "_cell_guid": "daa0d294-b5b7-4aac-986a-a0e91bc910bc",
    "_uuid": "87f04444b6b7d594c3d0ab5d4d176e27ba04c028",
    "collapsed": true
   },
   "outputs": [],
   "source": [
    "f, ax = plt.subplots(figsize=(6, 4))\n",
    "s = sns.heatmap(pd.crosstab(train_df.Sex, train_df.Title),\n",
    "            annot=True, fmt=\"d\", linewidths=.5, ax=ax,cmap=\"plasma\",\n",
    "                cbar_kws={'label': 'Count'})\n",
    "s.set_title('Title Count by Sex Crosstab Heatmap')\n",
    "s.set_xticklabels([\"Mr\",\"Mrs\",\"Miss\",\"Master\",\"Rare\"])\n",
    "plt.show()"
   ]
  },
  {
   "cell_type": "markdown",
   "metadata": {
    "_cell_guid": "dc9b2b7c-fadc-45eb-a745-fa42d903ec19",
    "_uuid": "dba5a46816576bf1a3daaa1a0d9e3e59a24b3ca6"
   },
   "source": [
    "# Ensemble Methods for Decision Trees\n",
    "<a id=\"EMDT\"></a>\n",
    "\n",
    "Technique where multiple trees are created and then asked to come together and vote on the model’s outcome. Later in this notebook, this same idea is applied to bring together models of different types.\n",
    "\n",
    "The sub categories **Boosting** and **Bootstrap Aggregating** are part of this framework, but differ in terms of how the group of trees are *trained*.\n",
    "\n",
    "## General Hyper-Parameters for Decision Trees and their Ensembles:\n",
    " *Sklearn implementation, but universal theory/parameters*\n",
    "\n",
    "HyperParameters for Tuning:\n",
    "- max_features: This is the random subset of features to be considered for splitting operation, the lower the better to reduce variance. For Classification model, ideal max_features = sqr(n_var). \n",
    "- max_depth: Maximum depth of the tree. Alternate method of control model depth is *max_leaf_nodes*, which limits the number of terminal nodes, effectively limiting the depth of the tree.\n",
    "- n_estimators: Number of trees built before average prediction is made.\n",
    "- min_samples_split: Minimum number of samples required for a node to be split. Small minimum would potentially lead to a “Bushy Tree”, prone to overfitting. According to Analytic Vidhya, should be around 0.5~1% of the datasize.\n",
    "- min_samples_leaf: Minimum number of samples required at the **Terminal Node** of the tree. In Sklearn, an alternative *min_weight_fraction_leaf* is available to use fraction of the data instead of a fixed integer.\n",
    "- random_state: Ensuring consistent random generation, like seed(). Important to consider for comparing models of the same type to ensure a fair comparison. May cause overfitting if random generation is not representative.\n",
    "\n",
    "### Quality of Life:\n",
    "- n_jobs: Computer processors utilized. -1 signifies use all processors\n",
    "- Verbose: Amount of tracking information printed. 0 = None, 1 = By Cross Validation, 1 < by tree.\n",
    "\n",
    "## Bootstrap aggregating (AKA Bagging) Decision Trees\n",
    "<a id=\"Bootstrap\"></a>\n",
    "\n",
    "Creates a bunch of trees using a subset of the the data for each, while using sampling without replacement, which means that values may be sampled multiple times. When combined with cross-validation, the values not sampled, or “held-out”, can then be used as the validation set. This results in a better generalizing model: Less prone to overfitting while maintaining a high model capacity (synonymous with model complexity and flexibility).\n",
    "\n",
    "This technique introduces a flavor of the Monte Carlo method, which hopes to achieve better accuracy through sampling.\n",
    "\n",
    "Reading:\n",
    "[Tuning the parameters of your Random Forest model by Analtyics Vidhya](https://www.analyticsvidhya.com/blog/2015/06/tuning-random-forest-model/)"
   ]
  },
  {
   "cell_type": "code",
   "execution_count": null,
   "metadata": {
    "_cell_guid": "622da162-f605-4637-9a38-cbe6f3b9e08e",
    "_uuid": "4c92dae633db77c989ac4a007dc5f94f60962f3b",
    "collapsed": true,
    "scrolled": true
   },
   "outputs": [],
   "source": [
    "# Parameter Tuning\n",
    "param_grid ={'n_estimators': n_tree_range}\n",
    "\n",
    "tree = DecisionTreeClassifier()\n",
    "grid = RandomizedSearchCV(BaggingClassifier(tree),\n",
    "                    param_grid, cv=cv, scoring=scoring,\n",
    "                    verbose=1,n_iter=n_iter, random_state=rstate)\n",
    "\n",
    "grid.fit(X_train, y_train)\n",
    "save(grid, \"Bagger_ensemble\")"
   ]
  },
  {
   "cell_type": "markdown",
   "metadata": {
    "_cell_guid": "a1c59c2d-f288-4af4-951a-08a953eb50fa",
    "_uuid": "9ec5f4d1ac55632b0e3ab87b7ac0d9d44e5bc666"
   },
   "source": [
    "## Random Forest\n",
    "<a id=\"RandomForest\"></a>\n",
    "Builds upon Leo Breiman's Bootstrap Aggregation method by adding a random feature selection dimension. \n",
    "More uncorrelated splits, less overemphasis on certain features. Similar to Neural Net’s dropout, since it forces the model to give a large role to less dominant features, leading to a better generalizing model. However, it differs from dropout in the sense that its effect is not repeated and passed over to future iterations of the training process."
   ]
  },
  {
   "cell_type": "code",
   "execution_count": null,
   "metadata": {
    "_cell_guid": "2537d2e9-9350-4c7b-a089-873f66a71d69",
    "_uuid": "8de6d6b3cdb5e2fefc119aeb448aabf0e4eda635",
    "collapsed": true,
    "scrolled": false
   },
   "outputs": [],
   "source": [
    "model = RandomForestClassifier()\n",
    "print(\"Mean CV Accuracy:\",cross_val_score(model, X, y, cv=cv, scoring=scoring).mean())\n",
    "feature_imp(model)"
   ]
  },
  {
   "cell_type": "code",
   "execution_count": null,
   "metadata": {
    "_cell_guid": "ea5889c7-e6ed-4637-a9b3-7826b276b8ea",
    "_uuid": "72d10217199f0ea90527f1b7cefbddb240318100",
    "collapsed": true
   },
   "outputs": [],
   "source": [
    "RandomForestClassifier().get_params().keys()"
   ]
  },
  {
   "cell_type": "code",
   "execution_count": null,
   "metadata": {
    "_cell_guid": "32105af1-377b-4284-b82f-32b98ecb4f8e",
    "_uuid": "33677ef84af5b05529c3f126c13e522a22187e4e",
    "collapsed": true,
    "scrolled": false
   },
   "outputs": [],
   "source": [
    "param_grid ={'max_depth': st.randint(3, 11),\n",
    "             'n_estimators': num_rounds,\n",
    "             'max_features':[\"sqrt\", \"log2\"],\n",
    "             'max_leaf_nodes':st.randint(6, 10)\n",
    "            }\n",
    "\n",
    "model= RandomForestClassifier()\n",
    "\n",
    "grid = RandomizedSearchCV(model,\n",
    "                    param_grid, cv=cv,\n",
    "                    scoring=scoring,\n",
    "                    verbose=1,n_iter=n_iter, random_state=rstate)\n",
    "\n",
    "grid.fit(X_train, y_train)\n",
    "save(grid, \"Random_Forest\")"
   ]
  },
  {
   "cell_type": "code",
   "execution_count": null,
   "metadata": {
    "_cell_guid": "0df7e46c-0ebd-462e-a7eb-4f6fae523c5a",
    "_uuid": "072af2ac2b113f79cab1d3436b5f4a07d0ba9e82",
    "collapsed": true
   },
   "outputs": [],
   "source": [
    "feature_imp(grid.best_estimator_)"
   ]
  },
  {
   "cell_type": "markdown",
   "metadata": {
    "_cell_guid": "efa4df40-791f-4322-8e6a-8ef6a2919ac0",
    "_uuid": "4469ae3375340305dc04ed5716d93614320fa7dc"
   },
   "source": [
    "## Boosting Family\n",
    "Simply put, boosting models convert weak models into strong models. Essentially, each weak model is trained on a different distribution of the data, enabling it to learn a narrow rule. When combined, it offers a stronger model. Iteratively, subsequent weak models focus on the source of prediction error from the vote of previous weak models, until the accuracy ceiling is reached.\n",
    "\n",
    "Source:\n",
    "[Quick Introduction to Boosting Algorithms in Machine Learning by Analytics Vidhya](https://www.analyticsvidhya.com/blog/2015/11/quick-introduction-boosting-algorithms-machine-learning/)\n",
    "\n",
    "## Adaptive Boosting\n",
    "<a id=\"Adaboost\"></a>\n",
    "\n",
    "Applies weights to all data points and optimizes them using the loss function. Fixes mistakes by assigning high weights to them during iterative process.\n",
    "\n",
    "Iterates through multiple models in order to determine the best boundaries. It relies on using weak models to determine the pattern, and eventually creates a strong combination of them."
   ]
  },
  {
   "cell_type": "code",
   "execution_count": null,
   "metadata": {
    "_cell_guid": "a76806e5-fa9a-4dc0-90ca-368b85f6609f",
    "_uuid": "a32b77ec32445a5aad496df70afb6852932c48dc",
    "collapsed": true
   },
   "outputs": [],
   "source": [
    "AdaBoostClassifier().get_params().keys()"
   ]
  },
  {
   "cell_type": "code",
   "execution_count": null,
   "metadata": {
    "_cell_guid": "76254c54-5d24-49a4-889f-51a30f85e1e6",
    "_uuid": "f6e0a54e764f13cf99e4b8bf34a2c373048cba3a",
    "collapsed": true,
    "scrolled": false
   },
   "outputs": [],
   "source": [
    "param_grid ={'n_estimators':n_tree_range,\n",
    "            'learning_rate':np.arange(.1, 4, .5)}\n",
    "\n",
    "grid = RandomizedSearchCV(AdaBoostClassifier(),\n",
    "                    param_grid,cv=cv, scoring=scoring,\n",
    "                    verbose=1, n_iter=n_iter, random_state=rstate)\n",
    "\n",
    "grid.fit(X_train, y_train)\n",
    "save(grid, \"AdaBoost_Ensemble\")"
   ]
  },
  {
   "cell_type": "code",
   "execution_count": null,
   "metadata": {
    "_cell_guid": "1f068c7a-a7a0-439d-ac23-46898b918215",
    "_uuid": "72088a68802ecccc729afd9d8b79ec023483add0",
    "collapsed": true
   },
   "outputs": [],
   "source": [
    "feature_imp(grid.best_estimator_)"
   ]
  },
  {
   "cell_type": "markdown",
   "metadata": {
    "_cell_guid": "cf0914b6-b617-4048-9aaf-e454cc599201",
    "_uuid": "f63b2e5144188f61124bc072b03930ca5dd53dc9"
   },
   "source": [
    "\n",
    "## Gradient Boosting Classifier\n",
    "<a id=\"Gradient Boost\"></a>\n",
    "\n",
    "### Additional Gradient Boosting Hyper-Parameters:\n",
    "- **Learning_rate: ** How much parameters are updated after each iteration of gradient descent. Low mean smaller steps, most likely to reach the global minimum, although there are cases where this doesn’t always work as intended.\n",
    "- **N_estimators:** Note this is still the number of trees being built, but it within the GBC’s sequential methodology.\n",
    "- **Subsample:** Similar to the Bootstrap Aggregate method, controlling percentage of data utilized for a tree, although the standard is to sample *without* replacement. In this model, operates in similar ways to Stochastic Gradient Descent in Neural Networks, but with large batch sizes. <br>\n",
    "*Note this decision trees are still a *Shallow Model*, so it is still profoundly different from Neural Networks.*\n",
    "- **Loss:** Function minimized by gradient descent.\n",
    "- **Init:** Initialization of the model internal parameters. May be used to build off another model's’ outcome.\n",
    "\n",
    "As the name suggest, Gradient Boosting iteratively trains models sequentially to minimize Loss, a convex optimization method similar to that seen in Neural Networks.\n",
    "\n",
    "This is a Greedy Algorithm, which makes the most favorable split when it can. This means it's short sighted and will also stop when the loss doesn’t improve.\n",
    "\n",
    "More information: <br>\n",
    "- [Complete Guide to Parameter Tuning in Gradient Boosting (GBM) in Python by Analytics Vidhya](https://www.analyticsvidhya.com/blog/2016/02/complete-guide-parameter-tuning-gradient-boosting-gbm-python/) \n",
    "- [Gradient boosting machines, a tutorial by Alexey Natekin1 and Alois Knoll](https://www.ncbi.nlm.nih.gov/pmc/articles/PMC3885826/)"
   ]
  },
  {
   "cell_type": "code",
   "execution_count": null,
   "metadata": {
    "_cell_guid": "106202af-2bad-4883-a3cd-fa9aaa7d37e9",
    "_uuid": "39cede162f769549428d564c2d0922f0e81b33fe",
    "collapsed": true
   },
   "outputs": [],
   "source": [
    "GradientBoostingClassifier().get_params().keys()"
   ]
  },
  {
   "cell_type": "code",
   "execution_count": null,
   "metadata": {
    "_cell_guid": "5a692462-e6ed-446a-b6f5-07a3c1cf513e",
    "_uuid": "235812f79aadba7b9a2bf9f3bf7e68c9329b30dd",
    "collapsed": true,
    "scrolled": true
   },
   "outputs": [],
   "source": [
    "param_grid ={'n_estimators': n_tree_range,\n",
    "            'loss': ['deviance', 'exponential'],\n",
    "            'learning_rate': [0.1, 0.01,0.05,0.001],\n",
    "            'max_depth': np.arange(2, 12, 1)}\n",
    "\n",
    "grid = RandomizedSearchCV(GradientBoostingClassifier(),\n",
    "                    param_grid,cv=cv,\n",
    "                    scoring=scoring,\n",
    "                    verbose=1, n_iter=n_iter, random_state=rstate)\n",
    "\n",
    "grid.fit(X_train, y_train)\n",
    "save(grid, \"Gradient_Boosting\")"
   ]
  },
  {
   "cell_type": "code",
   "execution_count": null,
   "metadata": {
    "_cell_guid": "b2fcefb6-dad1-4325-942e-9c3751040885",
    "_uuid": "55bfac6c0ee9fd77f147801d95eebb57bff5af53",
    "collapsed": true
   },
   "outputs": [],
   "source": [
    "feature_imp(grid.best_estimator_)"
   ]
  },
  {
   "cell_type": "markdown",
   "metadata": {
    "_cell_guid": "62d67446-0918-4819-9a3c-ab6f68251843",
    "_uuid": "5df50cd100be9adc074a4f28b279d577b338953d"
   },
   "source": [
    "## XGBoost - eXtreme Gradient Boosting\n",
    "<a id=\"XGBOOST\"></a>\n",
    "As the name suggest, Gradient Boosting on steroids. Infact, multiple steroids:\n",
    "- **Regularization**\n",
    "- **Computation Speed** and **Parallel Processing**\n",
    "- Handles **Missing Values**\n",
    "- Improves on Gradient Boosting ***'Greedy'*** tendencies. It does this by considering reaching the max depth and retroactively pruning \n",
    "- **Interruptible** and **Resumable**, as well as **Hadoop** capabilities.\n",
    "\n",
    "XGBoost is able to approximate the Loss function more efficiently, thereby leading to faster computation and parallel processing. Inside its objective function, it has also incorporated a regularization term, ridge or lasso, to stay clear of unnecessary high dimensional spaces and complexity.\n",
    "\n",
    "### Hyper-Parameters for Tree Classification Booster (Sklearn Wrapper)\n",
    "- **Min_child_weight:** Similar strand to *min_child_leaf*, which controls the minimum number of observation to split to a terminal node. This instead relates to defines the minimum sum of derivatives found in the Hessian (second-order)of all observations required in a child.\n",
    "- **Gamma:** Node is split only if it gives a positive decrease in the loss function. Higher performance regulator of complexity.\n",
    "- **Max_delta_step:** What the tree’s weights can be.\n",
    "- **Colsample_bylevel:** Random Forest characteristic, where it enables subfraction of features to be randomly selected for each tree.\n",
    "\n",
    "### Regularization\n",
    "In the context of GBMs, regularization through shrinkage is available, but applying it to the model with the tree base-learner is different from its traditional coefficient constriction. For GBM Trees, the shrinking decreases the influence of each additional tree in the iterative process, effectively applying a decay of impact over boosting rounds. As a result, it no longer searches as the feature selection method, since it cannot adjust the coefficients of each feature (and potential interaction/ polynomial terms).\n",
    "\n",
    "\n",
    "### Learning Task Parameters:\n",
    "- **Objective:** *binary:logistic* = Outputs probability for two classes.\n",
    "- **Multi:** *softmax* = outputs prediction for *num_class* classes.\n",
    "- **Multi:** *prob* = probability for 3 or more classes.\n",
    "\n",
    "The objective is merely a matter of catering to the data type, although additional protocols on the probabilities may be set up. For example, the highest probability below a certain threshold may be deemed an inadequate score, passed over for human processing. The optimal loss function should cater to the behavior of the data and goal at hand, and usually requires input from the domain knowledge base.\n",
    "\n",
    "The Evaluation Metric (*eval_metric*) has important implications depending on the problem at hand. If the dataset is imbalanced and the minority class is of interest, it is better to use [AUC] Area Under the Curve than accuracy or rmse, since those metrics can get away with assigning the majority class to all, and still get away with high accuracy!\n",
    "\n",
    "More Info: <br>\n",
    "https://www.analyticsvidhya.com/blog/2016/03/complete-guide-parameter-tuning-xgboost-with-codes-python/\n",
    "\n",
    "Python Installation: <br> https://www.ibm.com/developerworks/community/blogs/jfp/entry/Installing_XGBoost_For_Anaconda_on_Windows?lang=en"
   ]
  },
  {
   "cell_type": "code",
   "execution_count": null,
   "metadata": {
    "_cell_guid": "164cffc3-8a94-433c-8672-8865bf6c4526",
    "_uuid": "be3388d76fa15736adc72158286a94ce09cb771b",
    "collapsed": true
   },
   "outputs": [],
   "source": [
    "XGBClassifier().get_params().keys()"
   ]
  },
  {
   "cell_type": "code",
   "execution_count": null,
   "metadata": {
    "_cell_guid": "779d4997-4e6f-4cda-bcc6-efed0c61fc25",
    "_uuid": "da7ae072f00fe34e3c87347da38b919e61734b0d",
    "collapsed": true
   },
   "outputs": [],
   "source": [
    "params = {  \n",
    "    \"n_estimators\": n_tree_range,\n",
    "    \"max_depth\": st.randint(3, 15),\n",
    "    \"learning_rate\": [0.05]\n",
    "}\n",
    "\n",
    "xgbreg = XGBClassifier(objective= 'binary:logistic', eval_metric=\"auc\",\n",
    "                       nthreads=2)\n",
    "\n",
    "grid = RandomizedSearchCV(xgbreg, params, n_jobs=1, verbose=1, n_iter=n_iter,\n",
    "                          random_state=rstate, scoring=scoring)  \n",
    "grid.fit(X_train,y_train, verbose=False)\n",
    "save(grid, \"Sci_kit XGB\")"
   ]
  },
  {
   "cell_type": "code",
   "execution_count": null,
   "metadata": {
    "_cell_guid": "ae05deb6-db05-44ee-9486-aa4de207b2a5",
    "_uuid": "259df82d5a56bc2342f20fb0d9d3c6535c4de2b7",
    "collapsed": true
   },
   "outputs": [],
   "source": [
    "feature_imp(grid.best_estimator_)"
   ]
  },
  {
   "cell_type": "code",
   "execution_count": null,
   "metadata": {
    "_cell_guid": "e22f0043-85a8-456b-bb67-b0a684838982",
    "_uuid": "c6504997657c342c7f844535105eff41c4be730f",
    "collapsed": true
   },
   "outputs": [],
   "source": [
    "# What is going on with Age, Sex and Survival?\n",
    "with sns.axes_style(style='ticks'):\n",
    "    g = sns.factorplot(\"Sex\", \"Age\", \"Survived\", data=train_df, kind=\"box\")\n",
    "    g.set(ylim=(-1,5))\n",
    "    g.set_axis_labels(\"Sex\", \"Age\");"
   ]
  },
  {
   "cell_type": "code",
   "execution_count": null,
   "metadata": {
    "_cell_guid": "e8eeff4c-f48f-47d8-89af-892fac76975a",
    "_uuid": "aa9a2c74aa466d3c60f2b5c259f07d1e03d8b3ef",
    "collapsed": true
   },
   "outputs": [],
   "source": [
    "model = XGBClassifier(n_estimators = num_rounds,\n",
    "                      objective= 'binary:logistic',\n",
    "                      learning_rate=0.01,\n",
    "                      scale_pos_weight = imbalance_weight,\n",
    "                      random_state=rstate,\n",
    "                      scoring=scoring,\n",
    "                      verbose_eval=10)\n",
    "\n",
    "# use early_stopping_rounds to stop the cv when there is no score imporovement\n",
    "model.fit(X_train,y_train, early_stopping_rounds=50, eval_set=[(X_test,\n",
    "y_test)], verbose=False)\n",
    "score = cross_val_score(model, X_train,y_train, cv=cv)\n",
    "print(\"\\nxgBoost - CV Train : %.2f\" % score.mean())\n",
    "print(\"xgBoost - Train : %.2f\" % metrics.accuracy_score(model.predict(X_train), y_train))\n",
    "print(\"xgBoost - Test : %.2f\" % metrics.accuracy_score(model.predict(X_test), y_test))\n",
    "norm_save(model,score, \"XGBsklearn\")"
   ]
  },
  {
   "cell_type": "markdown",
   "metadata": {
    "_cell_guid": "6f967d52-beac-4f3a-8dca-d068b02222e3",
    "_uuid": "289c9d5c884d466119bdd17f1319d910538d38f3"
   },
   "source": [
    "## XGBoost Native Package Implementation\n",
    "I found this implementation to be faster than the sklearn wrapper since it has its own efficient dataset structure `DMatrix`."
   ]
  },
  {
   "cell_type": "code",
   "execution_count": null,
   "metadata": {
    "_cell_guid": "dd6020bd-5a88-498b-ae4c-87dd2c8d3f75",
    "_uuid": "0f29ef41462b7187651d6c62797d6b49603245fd",
    "collapsed": true,
    "scrolled": true
   },
   "outputs": [],
   "source": [
    "xgtrain = xgb.DMatrix(X_train, label=y_train)\n",
    "xgtest = xgb.DMatrix(X_test, label=y_test)\n",
    "xgtesting = xgb.DMatrix(test_df)\n",
    "\n",
    "# set xgboost params\n",
    "param = {'eta': 0.05, \n",
    "         'max_depth': 8, \n",
    "         'subsample': 0.8, \n",
    "         'colsample_bytree': 0.75,\n",
    "          #'min_child_weight' : 1.5,\n",
    "          'objective': 'binary:logistic', \n",
    "          'eval_metric': 'logloss',\n",
    "          'scale_pos_weight': imbalance_weight,\n",
    "          'seed': 23,\n",
    "          'lambda': 1.5,\n",
    "          'alpha': .6\n",
    "        }\n",
    "\n",
    "clf_xgb_cv = xgb.cv(param, xgtrain, num_rounds, \n",
    "                    stratified=True, \n",
    "                    nfold=n_splits, \n",
    "                    early_stopping_rounds=50,\n",
    "                    verbose_eval=20)\n",
    "print(\"Optimal number of trees/estimators is %i\" % clf_xgb_cv.shape[0])\n",
    "\n",
    "watchlist  = [(xgtrain,'train'),(xgtest,'test')]                \n",
    "clf_xgb = xgb.train(param, xgtrain,clf_xgb_cv.shape[0], watchlist,verbose_eval=0)\n",
    "\n",
    "# Best Cutoff Threshold\n",
    "p = clf_xgb.predict(xgtest)\n",
    "fpr, tpr, thresholds = metrics.roc_curve(y_test,p)\n",
    "optimal_idx = np.argmax(tpr - fpr)\n",
    "optimal_threshold = thresholds[optimal_idx]\n",
    "print(\"\\nOptimal Threshold: \",optimal_threshold)\n",
    "\n",
    "# so we'll use 0.5 cutoff to convert probability to class label\n",
    "y_train_pred = (clf_xgb.predict(xgtrain, ntree_limit=clf_xgb.best_iteration) > optimal_threshold).astype(int)\n",
    "y_test_pred = (clf_xgb.predict(xgtest, ntree_limit=clf_xgb.best_iteration) > optimal_threshold).astype(int)\n",
    "score= metrics.accuracy_score(y_test_pred, y_test)\n",
    "print(\"\\nXGB - CV Train : %.2f\" % score)\n",
    "train_score= metrics.accuracy_score(y_train_pred, y_train)\n",
    "print(\"XGB - Train : %.2f\" % train_score)\n",
    "\n",
    "results = results.append({'Model': \"BESTXGBOOST\",'Para': param,'Test_Score': score,\n",
    "                             'CV Mean':train_score, 'CV STDEV': None}, ignore_index=True)\n",
    "\n",
    "xgboostprobpred = clf_xgb.predict(xgtesting, ntree_limit=clf_xgb.best_iteration)\n",
    "xgboostpred = (xgboostprobpred > optimal_threshold).astype(int)\n",
    "submission = pd.DataFrame({'PassengerId':test_df.index,'Survived':xgboostpred})\n",
    "submission.to_csv('BESTXGBOOST.csv',index=False)"
   ]
  },
  {
   "cell_type": "code",
   "execution_count": null,
   "metadata": {
    "_cell_guid": "3ff8bb3a-fe6a-4423-81ea-53fc8b1a8ba6",
    "_uuid": "01a46317e4703cab41beeeab96609844ba5c5de1",
    "collapsed": true
   },
   "outputs": [],
   "source": [
    "f, ax = plt.subplots(figsize=[4,5])\n",
    "xgb.plot_importance(clf_xgb,max_num_features=50,ax=ax)\n",
    "plt.title(\"XGBOOST Feature Importance\")\n",
    "plt.show()"
   ]
  },
  {
   "cell_type": "markdown",
   "metadata": {
    "_cell_guid": "53c39d0d-101b-4fef-bb6a-060a324741e4",
    "_uuid": "35e60718f9dfaa4ded1cd8e2aaa157100b321233"
   },
   "source": [
    "## CatBoost\n",
    "\n",
    "Big Thanks to [LUGQ](https://www.kaggle.com/manrunning)'s [Kernel](https://www.kaggle.com/manrunning/catboost-for-titanic-top-7?scriptVersionId=1382290)"
   ]
  },
  {
   "cell_type": "code",
   "execution_count": null,
   "metadata": {
    "_cell_guid": "412aa2df-20e1-42c3-bc9f-fa317642ad7a",
    "_uuid": "151b97862edcc1c86e8273ebc95f53960ba7a0fc",
    "collapsed": true
   },
   "outputs": [],
   "source": [
    "def column_index(df, query_cols):\n",
    "    cols = df.columns.values\n",
    "    sidx = np.argsort(cols)\n",
    "    return sidx[np.searchsorted(cols,query_cols,sorter=sidx)]\n",
    "categorical_features_pos = column_index(X,categorical_features)"
   ]
  },
  {
   "cell_type": "markdown",
   "metadata": {
    "_uuid": "5f2203ecb482014bf7bc402061cf0ec86687b994"
   },
   "source": [
    "**First Find Ideal Boosting Rounds:**"
   ]
  },
  {
   "cell_type": "code",
   "execution_count": null,
   "metadata": {
    "_uuid": "3701862fc0a97076001a09b40bfb552b8e04a13e",
    "collapsed": true
   },
   "outputs": [],
   "source": [
    "model = CatBoostClassifier(eval_metric='Accuracy',\n",
    "                           iterations = num_rounds,\n",
    "                           use_best_model=True,\n",
    "                           od_wait = 100,\n",
    "                           scale_pos_weight= imbalance_weight,\n",
    "                           random_seed=42,\n",
    "                           logging_level = \"Verbose\",\n",
    "                           metric_period = 100\n",
    "                          )"
   ]
  },
  {
   "cell_type": "code",
   "execution_count": null,
   "metadata": {
    "_uuid": "296ae2c4acc7e62c6b25e83c9b7db67726e25828",
    "collapsed": true
   },
   "outputs": [],
   "source": [
    "from catboost import cv as catcv\n",
    "catpool = Pool(X_train,y_train,cat_features=categorical_features_pos)\n",
    "cv_data = catcv(catpool,model.get_params(),fold_count=10)\n",
    "best_cat_iterations = cv_data['test-Accuracy-mean'].idxmax()\n",
    "print(\"Best Iteration: \",best_cat_iterations)\n",
    "print(\"Best Score: \", cv_data['test-Accuracy-mean'][best_cat_iterations])"
   ]
  },
  {
   "cell_type": "markdown",
   "metadata": {
    "_uuid": "62a281488d89f44b494447d8574e198be2361737"
   },
   "source": [
    "**Then Build Full Model using best parameters:**"
   ]
  },
  {
   "cell_type": "code",
   "execution_count": null,
   "metadata": {
    "_cell_guid": "07d50b30-a244-4a04-9895-dd774a43f29c",
    "_uuid": "776bed793741e30bde40be3e7e2b4e0284b8513b",
    "collapsed": true,
    "scrolled": false
   },
   "outputs": [],
   "source": [
    "model = CatBoostClassifier(eval_metric='Accuracy',\n",
    "                           iterations = best_cat_iterations,\n",
    "                           scale_pos_weight= imbalance_weight,\n",
    "                           random_seed=42,\n",
    "                           logging_level = \"Verbose\",\n",
    "                           metric_period = 100\n",
    "                          )\n",
    "model.fit(X,y,cat_features=categorical_features_pos)"
   ]
  },
  {
   "cell_type": "code",
   "execution_count": null,
   "metadata": {
    "_cell_guid": "c44c2f3a-5e98-425e-9201-92cf7a89875d",
    "_uuid": "87ae908a343fb6e474a537879c72b2e6c31a6473",
    "collapsed": true
   },
   "outputs": [],
   "source": [
    "model.get_params()"
   ]
  },
  {
   "cell_type": "code",
   "execution_count": null,
   "metadata": {
    "_cell_guid": "97e35136-5797-489a-a63e-63dfaa775eb8",
    "_uuid": "44d0a68540e3ce85c006ea55febe24eb2ed2c123",
    "collapsed": true
   },
   "outputs": [],
   "source": [
    "cat_cv_std = cv_data.loc[cv_data['test-Accuracy-mean'].idxmax(),[\"train-Accuracy-mean\",\"train-Accuracy-std\"]]\n",
    "print(\"Train CV Accuracy: %0.2f (+/- %0.2f)\" % (cat_cv_std[0],cat_cv_std[1])) \n",
    "\n",
    "results = results.append({'Model': \"Catboost\",'Para': model.get_params(),'Test_Score': None,\n",
    "                             'CV Mean':cat_cv_std[0], 'CV STDEV': cat_cv_std[1]}, ignore_index=True)\n",
    "\n",
    "catprobpred = model.predict_proba(test_df)[:,1]\n",
    "catpred = model.predict(test_df).astype(np.int)\n",
    "submission = pd.DataFrame({'PassengerId':test_df.index,'Survived':catpred})\n",
    "submission.to_csv('catboost.csv',index=False)"
   ]
  },
  {
   "cell_type": "markdown",
   "metadata": {
    "_cell_guid": "f8ee1217-66fb-4734-9d7d-d9ddf57b266e",
    "_uuid": "7fed10c38ecad8926e74d34f7e89dc69df84ba4f"
   },
   "source": [
    "## Light Gradient Boosting"
   ]
  },
  {
   "cell_type": "code",
   "execution_count": null,
   "metadata": {
    "_cell_guid": "fb6ef2f1-8aaa-4e76-8c25-e72eb687552c",
    "_uuid": "c97ecc37d122689a6919ff1ae9faf63fcf9fa1e0",
    "collapsed": true
   },
   "outputs": [],
   "source": [
    "lgtrain = lgb.Dataset(X_train, y_train,\n",
    "                      categorical_feature=categorical_features\n",
    "                     )\n",
    "\n",
    "lgvalid = lgb.Dataset(X_test, y_test,\n",
    "                      categorical_feature=categorical_features\n",
    "                     )\n",
    "\n",
    "lgbm_params = {\n",
    "    'boosting_type': 'gbdt',\n",
    "    'objective': 'binary',\n",
    "    'metric': 'auc',\n",
    "    'max_depth': 12,\n",
    "    #'num_leaves': 500,\n",
    "    'learning_rate': 0.01,\n",
    "    'feature_fraction': 0.80,\n",
    "    'bagging_fraction': 0.80,\n",
    "    'bagging_freq': 5,\n",
    "    'max_bin':300,\n",
    "    #'verbose': 0,\n",
    "    #'num_threads': 1,\n",
    "    'lambda_l2': 1.5,\n",
    "    #'min_gain_to_split': 0,\n",
    "    'is_unbalance': True\n",
    "    #'scale_pos_weight':0.15\n",
    "}  \n",
    "\n",
    "modelstart = time.time()\n",
    "lgb_clf = lgb.train(\n",
    "    lgbm_params,\n",
    "    lgtrain,\n",
    "    num_boost_round=num_rounds,\n",
    "    valid_sets=[lgtrain,lgvalid],\n",
    "    valid_names=['train','valid'],\n",
    "    early_stopping_rounds=50,\n",
    "    verbose_eval=50\n",
    ")\n",
    "print(\"\\nModel Runtime: %0.2f Minutes\"%((time.time() - modelstart)/60))"
   ]
  },
  {
   "cell_type": "code",
   "execution_count": null,
   "metadata": {
    "_cell_guid": "e8a624b1-4c95-4d0f-92ab-0cbd3ccba55a",
    "_uuid": "b6690f869a6feb81a624b48548d2088d07c5b85c",
    "collapsed": true
   },
   "outputs": [],
   "source": [
    "# Best Cutoff Threshold\n",
    "p = lgb_clf.predict(X_test)\n",
    "fpr, tpr, thresholds = metrics.roc_curve(y_test,p)\n",
    "optimal_idx = np.argmax(tpr - fpr)\n",
    "optimal_threshold = thresholds[optimal_idx]\n",
    "print(\"Optimal Threshold: \",optimal_threshold)\n",
    "\n",
    "# so we'll use 0.5 cutoff to convert probability to class label\n",
    "y_train_pred = (lgb_clf.predict(X_train) > optimal_threshold).astype(int)\n",
    "y_test_pred = (lgb_clf.predict(X_test) > optimal_threshold).astype(int)\n",
    "\n",
    "score= metrics.accuracy_score(y_test_pred, y_test)\n",
    "print(\"\\nXGB - CV Train : %.2f\" % score)\n",
    "train_score = metrics.accuracy_score(y_train_pred, y_train)\n",
    "print(\"XGB - Train : %.2f\" % train_score)\n",
    "\n",
    "# Save\n",
    "results = results.append({'Model': \"LGBM\",'Para': lgbm_params,'Test_Score': score,\n",
    "                             'CV Mean':train_score, 'CV STDEV': None}, ignore_index=True)\n",
    "\n",
    "lgbmprobpred = lgb_clf.predict(test_df)\n",
    "lgbmpred = (lgbmprobpred > optimal_threshold).astype(int)\n",
    "submission = pd.DataFrame({'PassengerId':test_df.index,'Survived':lgbmpred})\n",
    "submission.to_csv('LGBM.csv',index=False)"
   ]
  },
  {
   "cell_type": "code",
   "execution_count": null,
   "metadata": {
    "_cell_guid": "3230b520-8270-47a7-b41e-774047935b0f",
    "_uuid": "683183bfbf033e4ce458d261d64e92daf294a48b",
    "collapsed": true
   },
   "outputs": [],
   "source": [
    "f, ax = plt.subplots(figsize=[8,5])\n",
    "lgb.plot_importance(lgb_clf, max_num_features=50, ax=ax)\n",
    "plt.title(\"Light GBM Feature Importance\")\n",
    "plt.show()"
   ]
  },
  {
   "cell_type": "markdown",
   "metadata": {
    "_cell_guid": "28000c7c-a664-4c2e-88db-ef7a9d6833fb",
    "_uuid": "98ad7e2036d75021eef80236d4f13eefec9ded1d"
   },
   "source": [
    "## Gradient Boost Blend"
   ]
  },
  {
   "cell_type": "code",
   "execution_count": null,
   "metadata": {
    "_cell_guid": "5d170a25-019a-4fa7-837d-631e68683cca",
    "_uuid": "1e2eed62f79334bee0a804709125fc3497e81edd",
    "collapsed": true
   },
   "outputs": [],
   "source": [
    "# Simple Mode Blend\n",
    "modeblend = pd.DataFrame([xgboostpred,catpred,lgbmpred]).T\n",
    "modeblend.head()\n",
    "modeblend[\"Mode\"] = modeblend.mode(axis=1)\n",
    "submission = pd.DataFrame({'PassengerId':test_df.index,'Survived':modeblend[\"Mode\"]})\n",
    "submission.to_csv('Mode_GBM_Blend.csv',index=False)\n",
    "submission.head()"
   ]
  },
  {
   "cell_type": "code",
   "execution_count": null,
   "metadata": {
    "_cell_guid": "2f179a03-3c26-4b2e-810d-b515e83aa276",
    "_uuid": "f5eba656c90e5c052f4e8b1cc5cd8ad1af6fdb48",
    "collapsed": true
   },
   "outputs": [],
   "source": [
    "# Mean Blend\n",
    "predblend = pd.DataFrame(np.array([xgboostprobpred,lgbmprobpred,catprobpred])).T\n",
    "predblend.columns = [\"XG\",\"LGBM\",\"CAT\"]\n",
    "predblend[\"meanblend\"] = predblend.mean(axis=1)\n",
    "predblend[\"blendout\"] = (predblend[\"meanblend\"] > 0.5).astype(int)\n",
    "submission = pd.DataFrame({'PassengerId':test_df.index,'Survived':predblend[\"blendout\"]})\n",
    "submission.to_csv('mean_GBM_blend.csv',index=False)\n",
    "submission.head()"
   ]
  },
  {
   "cell_type": "markdown",
   "metadata": {
    "_cell_guid": "111ee2a7-d8a6-4580-b64d-82b97badbe73",
    "_uuid": "1fcac184c5dbb9be7a97691e2a31f31730352348"
   },
   "source": [
    "# Parametric Models\n",
    "<a id=\"Parametric\"></a>\n",
    "Family of models which makes assumption of the underlying distribution, and attempts to build models on top of it with a fixed number of parameters. Works great when they're assumption is correct and the data behaves itself.\n",
    "\n",
    "# Parametric Discriminative Models\n",
    "I want to take this opportunity to elaborate a bit more on the discriminative/generative dichotomy. An interesting observation by Andrew Ng is that while discriminative classifiers can reach a higher accuracy cap (asymptotic error), it achieves it at a slower rate than its generative counterpart. He does this by comparing *Naive Bayes* and *Logistic Regression*, two generative models. Therefore, for computational and goal solving reasons, it is best to solve for the conditional probability of p(x|y) directly, instead of trying to compute their joint distribution as seen in generative models. <br>\n",
    "**Source:** https://ai.stanford.edu/~ang/papers/nips01-discriminativegenerative.pdf"
   ]
  },
  {
   "cell_type": "markdown",
   "metadata": {
    "_cell_guid": "8a6a112c-0b4f-4832-b0ad-ed422d9a352e",
    "_uuid": "6cc9902e92e71b958d9c1fb9b3dfaea51ab2e605"
   },
   "source": [
    "# Logistic Regression\n",
    "<a id=\"Logistic\"></a>\n",
    "The classification regression. In the binary classification problem, the classic linear regression is unable to bound itself between classes [0,1]. So the logistic regression uses the logit from the sigmoid function, which transformed the weighted input into a probability of class being “1”. Although not the best performer, if offers exploratory information and can potentially reveal causal information, if the experiment is setup correctly."
   ]
  },
  {
   "cell_type": "code",
   "execution_count": null,
   "metadata": {
    "_cell_guid": "dc3fed2a-8f52-41c4-994e-d448a4e479c6",
    "_uuid": "a50f59e9ac91f7236ea30cc8ea931eb8eef3c1a7",
    "collapsed": true
   },
   "outputs": [],
   "source": [
    "# Stratified Cross-Validation\n",
    "cv = StratifiedShuffleSplit(n_splits=n_splits, test_size=0.2, random_state=rstate)"
   ]
  },
  {
   "cell_type": "code",
   "execution_count": null,
   "metadata": {
    "_cell_guid": "034e0eb8-5103-4771-a4d0-b76f5c1dbc04",
    "_uuid": "f32e0d526028cb96a6bb2c543db6da9d3c6c9087",
    "collapsed": true
   },
   "outputs": [],
   "source": [
    "model= LogisticRegression()\n",
    "score = cross_val_score(model, X_train, y_train, cv=cv, scoring='accuracy')\n",
    "norm_save(LogisticRegression(),score, \"Logistic_Regression\")"
   ]
  },
  {
   "cell_type": "code",
   "execution_count": null,
   "metadata": {
    "_cell_guid": "685bcbd5-f7f3-4a9f-bc1c-d8fe326db90f",
    "_uuid": "05e7fae10d7db9ea5f3411135b5318d2f66ea3fa",
    "collapsed": true,
    "scrolled": false
   },
   "outputs": [],
   "source": [
    "# Simple Linear Regression Model\n",
    "logit = sm.OLS(y,sm.add_constant(X)).fit() \n",
    "logit.summary()"
   ]
  },
  {
   "cell_type": "markdown",
   "metadata": {
    "_cell_guid": "0fdc67a4-9e54-44f3-ab83-4cbf1eb22b62",
    "_uuid": "d9a2f1ba40bac32ea3cfee8b9bacf3f5d920e579"
   },
   "source": [
    "# Logistic Generalized Additive Model [GAM]\n",
    "\n",
    "Prediction for this model reqiuires the data range to match, so I am unable to apply to the submission set.\n",
    "\n",
    "Additional Resources:\n",
    "- [GAM: The Predictive Modeling Silver Bullet](https://multithreaded.stitchfix.com/blog/2015/07/30/gam/)\n",
    "- [pyGAM : Getting Started with Generalized Additive Models in Python](https://codeburst.io/pygam-getting-started-with-generalized-additive-models-in-python-457df5b4705f)\n",
    "- [pyGAM Github](https://github.com/dswah/pyGAM)"
   ]
  },
  {
   "cell_type": "code",
   "execution_count": null,
   "metadata": {
    "_cell_guid": "47f76af7-a828-4754-9681-bf41c7bce97c",
    "_uuid": "a8e092f44559e4e6269131f5ad2ebd73b286c38b",
    "collapsed": true
   },
   "outputs": [],
   "source": [
    "# from pygam import LogisticGAM # Logistic Generalized Additive Model\n",
    "# gam = LogisticGAM().gridsearch(X_train, y_train)\n",
    "# # lgampred = gam.predict(test_df)\n",
    "# # submission = pd.DataFrame({'PassengerId':test_df.index,'Survived':lgampred})\n",
    "# # submission.to_csv('LGAM.csv',index=False)\n",
    "\n",
    "# train_score= gam.accuracy(X_train,y_train); print(\"Train Score: %.2f\" % train_score)\n",
    "# test_score= gam.accuracy(X_test,y_test); print(\"Test Score: %.2f\\n\" % test_score)\n",
    "# results = results.append({'Model': \"Logistic GAM\",'Para': None,'Test_Score': test_score,\n",
    "#                              'CV Mean':train_score, 'CV STDEV': None}, ignore_index=True)\n",
    "# gam.summary()\n",
    "\n",
    "# from pygam.utils import generate_X_grid\n",
    "# XX = generate_X_grid(gam)\n",
    "# fig, axs = plt.subplots(1, 6, figsize= [15,3])\n",
    "# titles = X.columns[:6]\n",
    "# for i, ax in enumerate(axs):\n",
    "#     pdep, confi = gam.partial_dependence(XX, feature=i+1, width=.95)\n",
    "#     ax.plot(XX[:, i], pdep)\n",
    "#     ax.plot(XX[:, i], confi[0][:, 0], c='grey', ls='--')\n",
    "#     ax.plot(XX[:, i], confi[0][:, 1], c='grey', ls='--')\n",
    "#     ax.set_title(titles[i],fontsize=26)\n",
    "# plt.tight_layout(pad=0)\n",
    "# plt.show()\n",
    "\n",
    "# from pygam.utils import generate_X_grid\n",
    "# XX = generate_X_grid(gam)\n",
    "# fig, axs = plt.subplots(1, 5, figsize= [15,3])\n",
    "# titles = X.columns[6:]\n",
    "# for i, ax in enumerate(axs):\n",
    "#     pdep, confi = gam.partial_dependence(XX, feature=i+1, width=.95)\n",
    "#     ax.plot(XX[:, i], pdep)\n",
    "#     ax.plot(XX[:, i], confi[0][:, 0], c='grey', ls='--')\n",
    "#     ax.plot(XX[:, i], confi[0][:, 1], c='grey', ls='--')\n",
    "#     ax.set_title(titles[i],fontsize=26)\n",
    "# plt.tight_layout(pad=0)\n",
    "# plt.show()"
   ]
  },
  {
   "cell_type": "markdown",
   "metadata": {
    "_cell_guid": "9f1a5520-68ad-4899-a1ca-9d74a9e70ba5",
    "_uuid": "3a5fdfc63e693136dd3f8fbff2af3a1898b43e52"
   },
   "source": [
    "These plots showcase the marginal effect of each feature towards the depedent variable in the model. Let me interpret some to clarify:\n",
    "- **Sex:** Class 1 (Female) contributes towards the survial rate, while Class 0 (Male) has a negative effect.\n",
    "- **Age:** This variable is rescaled, but we can still see an increase rate of survival for the lower and upper age levels.\n",
    "- **Fare:** The more people payed, the more likely they are to survive.\n",
    "\n",
    "# Feedforward Neural Networks\n",
    "<a id=\"FNN\"></a>\n",
    "The only “Deep Model” out of the mix. This is a characteristic of *Representation Learning*, which effectively grants the model its own feature processing and selection steps, catering to large, complex data with intertwining effects. In computer vision tasks, the convolutional neural networks is able to piece apart corners, colors, patterns and more. Recent research in Style Transfer even suggests that stylistic properties of a picture, such as art, can be extracted, and controlled.  <br>\n",
    "**Source:** https://arxiv.org/abs/1611.07865\n",
    "\n",
    "A common explanation for Neural Networks is that it is a whole bunch of Logistic Regressions. An important thing to remembers is that the hidden-layers are fully connected, meaning that each input variables has a weight to each node (hidden-unit) in the hidden layer, thereby resulting in a black box with a whole lot of parameters, and a whole lot of matrix multiplications. Finally it's, ironic that one of the most intelligible classifiers can be transformed into the least intelligible! In *Computer Age Statistical Inference* authors Bradley Efron and Trevor Hastie are hopeful for the next Ronald Fisher to come and provide statistical intelligibility to modern day machine learning models, many of which are highly developed computationally, but lacking inferential theory.\n",
    "\n",
    "Model not ideal for such as small dataset."
   ]
  },
  {
   "cell_type": "code",
   "execution_count": null,
   "metadata": {
    "_cell_guid": "ca0225ac-981c-4bcb-9376-23da8a029627",
    "_uuid": "a8d9e9e58d7478430a30f9cba9c5a1306ec48580",
    "collapsed": true
   },
   "outputs": [],
   "source": [
    "MLPClassifier().get_params().keys()"
   ]
  },
  {
   "cell_type": "code",
   "execution_count": null,
   "metadata": {
    "_cell_guid": "42127e72-85f7-46ea-b0bd-a022fbd45296",
    "_uuid": "cb36e472c54db06a606e44b8003a4f7260897a01",
    "collapsed": true
   },
   "outputs": [],
   "source": [
    "# Start with a RandomSearchCV to efficiently Narrow the Ballpark\n",
    "param_grid ={'max_iter': np.logspace(1, 5, 10).astype(\"int32\"),\n",
    "             'hidden_layer_sizes': np.logspace(2, 3, 4).astype(\"int32\"),\n",
    "             'activation':['identity', 'logistic', 'tanh', 'relu'],\n",
    "             'learning_rate': ['adaptive'],\n",
    "             'early_stopping': [True],\n",
    "             'alpha': np.logspace(2, 3, 4).astype(\"int32\")\n",
    "            }\n",
    "\n",
    "model = MLPClassifier()\n",
    "grid = RandomizedSearchCV(model,\n",
    "                    param_grid, cv=cv, scoring=scoring,\n",
    "                    verbose=1, n_iter=n_iter, random_state=rstate)\n",
    "\n",
    "grid.fit(X_train, y_train)\n",
    "save(grid, \"FFNeural_Net\")"
   ]
  },
  {
   "cell_type": "markdown",
   "metadata": {
    "_cell_guid": "35bcc3ac-cbe3-4e1d-993d-0938c0dc5037",
    "_uuid": "a230225d977041d2232700bad0f4aa323b7aed3d"
   },
   "source": [
    "# Support Vector Classifier\n",
    "<a id=\"SVC\"></a>\n",
    "Another model originating in Computer Science, the Support Vector Classifier creates a separation between point to determine class. Maximizing the accuracy of the discriminatory protocol.\n",
    "\n",
    "### Hyperparameters:\n",
    "- C: Rigidity and size of the separation line margin. Increasing C leads to a smaller, thus a more complex mode, and everything that comes with it (High variance, Low Bias)!\n",
    "\n",
    "## Linear Classifier:\n",
    "<a id=\"LSVC\"></a>\n",
    "In this case, the separator is linear. Imagine a two dimensional plot with a straight line separating two classes of points, but efficiently scalable up to a high dimensional space (plane, cube… *hypercube* :-O ? )"
   ]
  },
  {
   "cell_type": "code",
   "execution_count": null,
   "metadata": {
    "_cell_guid": "1ea7f413-7832-4fed-8248-4a6f9f180177",
    "_uuid": "44989c815cf507527cca611957937cda8c67f09b",
    "collapsed": true
   },
   "outputs": [],
   "source": [
    "LinearSVC().get_params().keys()"
   ]
  },
  {
   "cell_type": "code",
   "execution_count": null,
   "metadata": {
    "_cell_guid": "a52dc164-35a8-47ec-902c-71e93958bd67",
    "_uuid": "7af90e5ac4a2c0fc2ac71efcb4607aed68107947",
    "collapsed": true
   },
   "outputs": [],
   "source": [
    "# Define Model\n",
    "model = LinearSVC()\n",
    "\n",
    "#Fit Model\n",
    "scores= cross_val_score(model, X_train, y_train, cv=cv, scoring=scoring)\n",
    "norm_save(model, scores, \"LinearSV\")"
   ]
  },
  {
   "cell_type": "markdown",
   "metadata": {
    "_cell_guid": "76e10393-202b-42a0-8edf-a70f0e28b159",
    "_uuid": "d88c1f50fc5ccc637f1e92066ddfa39577f51476"
   },
   "source": [
    "## Radial Basis Function (RBF)\n",
    "<a id=\"RBF\"></a>\n",
    "Here, not only are non-linear boundaries available, the kernel trick is aso introduced, which enables new representations of the data to be formulated, effectively granting the models new dimensions to find better separators in.\n",
    "\n",
    "### Hyperparameter:\n",
    "- Gamma: How far the influence of a single training example reaches, and sort of like a soft boundary with a gradient. \n",
    "- Low Gamma -> Distant fit, High Gamma = Close Fit, Inverse of the radius of influence of samples selected by the model as support vectors.\n",
    "http://pages.cs.wisc.edu/~yliang/cs760/howtoSVM.pdf"
   ]
  },
  {
   "cell_type": "code",
   "execution_count": null,
   "metadata": {
    "_cell_guid": "3397c411-f146-4682-ae27-0382883fdcca",
    "_uuid": "a23d9098e186530f1ff95b52048ebcd4d47bf380",
    "collapsed": true
   },
   "outputs": [],
   "source": [
    "SVC().get_params().keys()"
   ]
  },
  {
   "cell_type": "code",
   "execution_count": null,
   "metadata": {
    "_cell_guid": "f958ebdb-9d63-4303-902d-ca3aa62f9343",
    "_uuid": "ccfcbef2fe556db90643870a2714589397f8c8fe",
    "collapsed": true
   },
   "outputs": [],
   "source": [
    "svc = SVC(kernel= 'rbf', probability=True)\n",
    "\n",
    "model = Pipeline(steps=[('svc', svc)])\n",
    "\n",
    "\n",
    "param_grid = {'svc__C': st.randint(1,10000),\n",
    "              'svc__gamma': np.logspace(1, -7, 10)}\n",
    "\n",
    "grid = RandomizedSearchCV(model, param_grid,\n",
    "                          cv=cv, verbose=1, scoring=scoring,\n",
    "                         n_iter=n_iter, random_state=rstate)\n",
    "\n",
    "grid.fit(X_train, y_train)\n",
    "save(grid, \"SVCrbf\")"
   ]
  },
  {
   "cell_type": "markdown",
   "metadata": {
    "_cell_guid": "b83ce969-38f8-4ffc-b91f-0ba082b7386c",
    "_uuid": "b50d2f51b86a5b72410b37b06cb5e2a6e61843b8"
   },
   "source": [
    "## Pipeline and Principal Components Analysis and Support Vector Classifier\n",
    "<a id=\"PCA\"></a>\n",
    "Pipelines enable multiple models or processes to be chained up and hyper-parameter tuned together. Very powerful tool, especially when uncertain about a model's reaction to processed data, since it may reveal complex, high performing combinations.\n",
    "\n",
    "### Limitations:\n",
    "The radial basis function support vector machine is actually able to leverage high dimensional data through its *kernel trick* to improve performance. For these reasons, it may not actually benefit from this procedure. \n",
    "\n",
    "### Dimensionality Reduction: Principal Component Analysis\n",
    "Decreases the noise by condensing the features into the dimensions of most variance. "
   ]
  },
  {
   "cell_type": "code",
   "execution_count": null,
   "metadata": {
    "_cell_guid": "cb561484-13fe-45ce-9708-729b1dbdaece",
    "_uuid": "12263a89070445c50070e6d92bfc2af1c8844639",
    "collapsed": true
   },
   "outputs": [],
   "source": [
    "pca = PCA()\n",
    "svc = SVC(kernel= 'rbf',probability=True)\n",
    "\n",
    "model = Pipeline(steps=[('pca',pca),\n",
    "                        ('svc', svc)])\n",
    "\n",
    "\n",
    "param_grid = {'svc__C': st.randint(1,10000),\n",
    "              'svc__gamma': np.logspace(1, -7, 10),\n",
    "             'pca__n_components': st.randint(1,len(X.columns))}\n",
    "\n",
    "grid = RandomizedSearchCV(model, param_grid,\n",
    "                          cv=cv, verbose=1,\n",
    "                         n_iter=n_iter, random_state=rstate, scoring=scoring)\n",
    "\n",
    "grid.fit(X_train, y_train)\n",
    "save(grid, \"PCA_SVC\")"
   ]
  },
  {
   "cell_type": "markdown",
   "metadata": {
    "_cell_guid": "818f8ffa-9c4f-4f07-97cb-c440cd7b0b4a",
    "_uuid": "b90479a07b3326826559d5c8d4a269b4111e8f02"
   },
   "source": [
    "# Parametric Generative Classification\n",
    "<a id=\"GPM\"></a>\n",
    "Models the data generating process in order to assign which categorize the features. Process is represented in terms of joint probabilities. Advantageous since it can be used to generate features, but tends to struggle in terms of accuracy and doesn’t scale well into tall and wide datasets. Only Gaussian Bayes used in this category, but additional Generative Models can be explored, such as:\n",
    "\n",
    "Hidden Markov model\n",
    "Probabilistic context-free grammar\n",
    "Averaged one-dependence estimators\n",
    "Latent Dirichlet allocation\n",
    "Restricted Boltzmann machine\n",
    "Generative adversarial networks\n",
    "\n",
    "## Gaussian Naive Bayes\n",
    "<a id=\"GNB\"></a>\n",
    "Through Bayes rule, is able to use conditional probabilities to classify data. Predicts the class by finding the one with the highest Posterior.\n",
    "\n",
    "### Interpretation:\n",
    "After I increased the feature space through feature engineering, model performance dropped from 75% to worst than random. Furthermore, this model gambles that most passengers died. Only thing going for it is its low false negative rate.."
   ]
  },
  {
   "cell_type": "code",
   "execution_count": null,
   "metadata": {
    "_cell_guid": "31cc1aa4-fa2f-4a8b-84a7-52268e41b9ec",
    "_uuid": "ea72031011721d7fae37b129ed34c3ff14bdf8de",
    "collapsed": true
   },
   "outputs": [],
   "source": [
    "model = GaussianNB()\n",
    "\n",
    "score = cross_val_score(model, X_train, y_train, cv=cv, scoring=scoring)\n",
    "norm_save(model,score, \"Gaussian\")"
   ]
  },
  {
   "cell_type": "markdown",
   "metadata": {
    "_cell_guid": "3c7a9ef3-e5db-4f5e-86a9-a86924b3e64f",
    "_uuid": "4054b409c4530f237d146805b5a6b0459c1c1b5a"
   },
   "source": [
    "## Results"
   ]
  },
  {
   "cell_type": "code",
   "execution_count": null,
   "metadata": {
    "_cell_guid": "3b2ffece-1ccd-4f6e-8ddc-c32a33026c84",
    "_uuid": "9408d4f910e16fc3be72c6c1267102fabd9c3c16",
    "collapsed": true
   },
   "outputs": [],
   "source": [
    "results.sort_values(by=[\"Test_Score\"], ascending=False, inplace=True)\n",
    "results"
   ]
  },
  {
   "cell_type": "markdown",
   "metadata": {
    "_cell_guid": "e55d2a2a-075f-481d-b35a-fe1eb41d4a45",
    "_uuid": "fc32e416bb5ee4940cb178c2b22db695b24eb149"
   },
   "source": [
    "# Sklearn Classification Voting: Model Ensemble\n",
    "<a id=\"Vote\"></a>\n",
    "Like the system that enabled multiple trees to predict together, this system brings together models of all types. A broader implementation.\n",
    "\n",
    "- **Hard Voting:** Plurality voting over the classes.\n",
    "- **Soft Voting:** Selects classed based off aggregated probabilities over the models. Requires model with probabilistic capabilities, which is why I removed linear SCV from inclusion. This difference is tremendous, while hard votes may polarize a small difference between models, say the prediction of 51% Survived and 49% Dead, the soft voting is able to make a more nuanced decision, rewarding high confidence models, and penalizing low confidence.\n",
    "- **Weights:** This is an additional feature which enables manual assigning voting power to each voting model.\n",
    "\n",
    "## Prepare and Observe Voting Models"
   ]
  },
  {
   "cell_type": "code",
   "execution_count": null,
   "metadata": {
    "_cell_guid": "e68f9f41-5fdd-4c64-8918-7792b69db472",
    "_uuid": "f2d168113c9ccffe070e68a3804b3258d949c0df",
    "collapsed": true
   },
   "outputs": [],
   "source": [
    "### Ensemble Voting\n",
    "ignore = [\"Catboost\",\"BESTXGBOOST\",\"LGBM\", \"Logistic GAM\"]\n",
    "not_proba_list = ['LinearSV','StochasticGradientDescent']\n",
    "not_proba =  results.query(\"Model in @not_proba_list\")\n",
    "hard_models = results.query(\"Model not in @ignore\")\n",
    "prob_models = results.query(\"Model not in @not_proba_list & Model not in @ignore\")\n",
    "\n",
    "# Alternative Indexing\n",
    "# [x for x in results.Model if x not in not_proba_list]\n",
    "# results.loc[~results.Model.isin([\"Catboost\"]+not_proba_list),:]\n",
    "\n",
    "# Submission DataFrame for correlation purposes\n",
    "# Hard Output\n",
    "test_hard_pred_matrix = pd.DataFrame()\n",
    "train_hard_pred_matrix = pd.DataFrame()\n",
    "valid_hard_pred_matrix = pd.DataFrame()\n",
    "\n",
    "#Soft Output\n",
    "test_soft_pred_matrix = pd.DataFrame()\n",
    "train_soft_pred_matrix = pd.DataFrame()\n",
    "valid_soft_pred_matrix = pd.DataFrame()"
   ]
  },
  {
   "cell_type": "markdown",
   "metadata": {
    "_uuid": "8984d767b91bfc1759e686dfe81bd5c1ab0005f6"
   },
   "source": [
    "**Class Predictions:**"
   ]
  },
  {
   "cell_type": "code",
   "execution_count": null,
   "metadata": {
    "_cell_guid": "68ebde74-d65a-4083-a809-7c8002305184",
    "_uuid": "0813b00e9b233aacd43fb27be24766d0e7722b4f",
    "collapsed": true
   },
   "outputs": [],
   "source": [
    "# Only Non-Probabilistic\n",
    "models = list(zip([ensemble_models[x] for x in not_proba.Model], not_proba.Model))\n",
    "clfs = []\n",
    "\n",
    "print('5-fold cross validation:\\n')\n",
    "for clf, label in models:\n",
    "    scores = cross_val_score(clf, X_train, y_train, cv=cv, scoring=scoring, verbose=0)\n",
    "    print(\"Train CV Accuracy: %0.2f (+/- %0.2f) [%s]\" % (scores.mean(), scores.std(), label))\n",
    "    md = clf.fit(X_train, y_train)\n",
    "    valid_hard_pred_matrix = pd.concat((valid_hard_pred_matrix, pd.DataFrame({label: md.predict(X_test)})), axis=1)\n",
    "    clfs.append(md)\n",
    "    print(\"Test Accuracy: %0.2f \\n\" % (metrics.accuracy_score(clf.predict(X_test), y_test)))\n",
    "    \n",
    "    # Model on Full Data\n",
    "    md = clf.fit(X,y)\n",
    "    submission = md.predict(test_df)\n",
    "    df = pd.DataFrame({'PassengerId':test_df.index, \n",
    "                           'Survived':submission})\n",
    "    train_hard_pred_matrix = pd.concat((train_hard_pred_matrix, pd.DataFrame({label: md.predict(X)})), axis=1)\n",
    "    test_hard_pred_matrix = pd.concat((test_hard_pred_matrix, pd.DataFrame({label: submission})), axis=1)\n",
    "    \n",
    "    # Output Submission\n",
    "    df.to_csv(\"{}.csv\".format(label),header=True,index=False)\n",
    "\n",
    "del clfs"
   ]
  },
  {
   "cell_type": "markdown",
   "metadata": {
    "_uuid": "4524f24980af17424f39e358d3e2606592641aac"
   },
   "source": [
    "**Probability Predictions:**"
   ]
  },
  {
   "cell_type": "code",
   "execution_count": null,
   "metadata": {
    "_cell_guid": "3fcb9898-85c7-4a94-885b-cd74c1741538",
    "_uuid": "714a891ef952984a2a24d929142c2bc80f4666c9",
    "collapsed": true,
    "scrolled": false
   },
   "outputs": [],
   "source": [
    "warnings.filterwarnings(action='ignore', category=DeprecationWarning)\n",
    "# Only Probabilistic\n",
    "models = list(zip([ensemble_models[x] for x in prob_models.Model], prob_models.Model))\n",
    "plt.figure()\n",
    "\n",
    "print('5-fold cross validation:\\n')\n",
    "clfs = []\n",
    "for clf, model_label in models:\n",
    "    scores = cross_val_score(clf, X_train, y_train,cv=5, scoring=scoring, verbose=0)\n",
    "    print(\"Train CV Accuracy: %0.2f (+/- %0.2f) [%s]\" % (scores.mean(), scores.std(), model_label))\n",
    "    md = clf.fit(X_train, y_train)\n",
    "    valid_soft_pred_matrix = pd.concat((valid_soft_pred_matrix, pd.DataFrame({model_label: md.predict_proba(X_test)[:,1]})), axis=1)\n",
    "    # Add to Roc Curve\n",
    "    fpr, tpr, _ = roc_curve(y_test, md.predict_proba(X_test)[:,1])\n",
    "    roc_auc = auc(fpr, tpr)\n",
    "\n",
    "    print('ROC AUC: %0.2f' % roc_auc)\n",
    "    plt.plot(fpr, tpr, label='{} ROC curve (area = {:.2})'.format(model_label, roc_auc))\n",
    "    \n",
    "    clfs.append(md)\n",
    "    print(\"Test Accuracy: %0.2f \\n\" % (metrics.accuracy_score(clf.predict(X_test), y_test)))\n",
    "    \n",
    "    # Model on Full Data\n",
    "    md = clf.fit(X,y)\n",
    "    submission = md.predict(test_df)\n",
    "    df = pd.DataFrame({'PassengerId':test_df.index, \n",
    "                           'Survived':submission})\n",
    "    train_hard_pred_matrix = pd.concat((train_hard_pred_matrix, pd.DataFrame({model_label: md.predict(X)})), axis=1)\n",
    "    test_hard_pred_matrix = pd.concat((test_hard_pred_matrix, pd.DataFrame({model_label: submission})), axis=1)\n",
    "\n",
    "    train_soft_pred_matrix = pd.concat((train_soft_pred_matrix, pd.DataFrame({model_label: md.predict_proba(X)[:,1]})), axis=1)\n",
    "    test_soft_pred_matrix = pd.concat((test_soft_pred_matrix, pd.DataFrame({model_label: md.predict_proba(test_df)[:,1]})), axis=1)\n",
    "    \n",
    "    # Output Submission\n",
    "    df.to_csv(\"{}.csv\".format(model_label),header=True,index=False)\n",
    "\n",
    "# Plot\n",
    "plt.plot([0, 1], [0, 1], 'k--')\n",
    "plt.xlim([0.0, 1.0])\n",
    "plt.ylim([0.0, 1.05])\n",
    "plt.xlabel('False Positive Rate')\n",
    "plt.ylabel('True Positive Rate')\n",
    "plt.title('ROC Curve')\n",
    "plt.legend(loc=\"lower right\")\n",
    "plt.show()"
   ]
  },
  {
   "cell_type": "markdown",
   "metadata": {
    "_cell_guid": "94893588-6cf7-4202-ad21-6a7c2db9129c",
    "_uuid": "33e751e8ee5ae6d01c71d7308be812ddbf3173c0",
    "collapsed": true
   },
   "source": [
    "## Introduction to Receiver Operating Characteristic curve [ROC]\n",
    "ROC curve, is a graphical plot that illustrates the diagnostic ability of a binary classifier system as its discrimination threshold is varied. Well said wikipedia. Closer the line is to the top left, the better its predictive ability. Non-Smooth curve suggest important thresholds, effective a cluster of probabilities near a swing point.\n",
    "\n",
    "\n",
    "# Soft and Hard Voting Ensembles of Difference Sizes"
   ]
  },
  {
   "cell_type": "code",
   "execution_count": null,
   "metadata": {
    "_cell_guid": "899d69fd-d306-4751-8a40-f1e174dc5497",
    "_uuid": "559e263ccda3012d5ac1da31efac977bfd8bdf7f",
    "collapsed": true,
    "scrolled": false
   },
   "outputs": [],
   "source": [
    "# Play with Weights\n",
    "plt.figure()\n",
    "voters = {}\n",
    "for x in [2,3,5,7,10]:\n",
    "    ECH = EnsembleVoteClassifier([ensemble_models.get(key) for key in hard_models.Model[:x]], voting='hard')\n",
    "    ECS = EnsembleVoteClassifier([ensemble_models.get(key) for key in prob_models.Model[:x]], voting='soft')\n",
    "    \n",
    "    print('\\n{}-Voting Models: 5-fold cross validation:\\n'.format(x))\n",
    "    for clf, model_label in zip([ECS, ECH], \n",
    "                          ['{}-VM-Ensemble Soft Voting'.format(x),\n",
    "                           '{}-VM-Ensemble Hard Voting'.format(x)]):\n",
    "        scores = cross_val_score(clf, X_train, y_train, cv=5, scoring='accuracy')\n",
    "        print(\"Train CV Accuracy: %0.2f (+/- %0.2f) [%s]\" % (scores.mean(), scores.std(), model_label))\n",
    "        md = clf.fit(X_train, y_train)\n",
    "        clfs.append(md)        \n",
    "        \n",
    "        Test_Score = metrics.accuracy_score(clf.predict(X_test), y_test)\n",
    "        print(\"Test Accuracy: %0.2f \" % Test_Score)\n",
    "        \n",
    "        CV_Score = scores.mean()\n",
    "        STDev = scores.std()\n",
    "        \n",
    "        global results\n",
    "        results = results.append({'Model': model_label,'Para': clf, 'CV Mean': CV_Score,\n",
    "                'Test_Score':Test_Score,'CV STDEV': STDev}, ignore_index=True)\n",
    "        voters[model_label] = clf\n",
    "        \n",
    "        # Model on Full Data\n",
    "        md = clf.fit(X,y)\n",
    "        submission = md.predict(test_df)\n",
    "        df = pd.DataFrame({'PassengerId':test_df.index,'Survived':submission})\n",
    "        df.to_csv(\"{}.csv\".format(model_label),header=True,index=False)\n",
    "        \n",
    "        if clf is ECH:\n",
    "            # Hard Correlation\n",
    "            train_hard_pred_matrix = pd.concat((train_hard_pred_matrix, pd.DataFrame({model_label: md.predict(X)})), axis=1)\n",
    "            test_hard_pred_matrix = pd.concat((test_hard_pred_matrix, pd.DataFrame({model_label: submission})), axis=1)\n",
    "        \n",
    "        elif clf is ECS:\n",
    "            # Add to Roc Curve\n",
    "            fpr, tpr, _ = roc_curve(y_test, md.predict_proba(X_test)[:,1])\n",
    "            roc_auc = auc(fpr, tpr)\n",
    "            print('ROC AUC: %0.2f' % roc_auc)\n",
    "            plt.plot(fpr, tpr, label='{} ROC curve (area = {:.2})'.format(model_label, roc_auc))\n",
    "            # Soft Correlation\n",
    "            train_soft_pred_matrix = pd.concat((train_soft_pred_matrix, pd.DataFrame({model_label: md.predict_proba(X)[:,1]})), axis=1)\n",
    "            test_soft_pred_matrix = pd.concat((test_soft_pred_matrix, pd.DataFrame({model_label: md.predict_proba(test_df)[:,1]})), axis=1)\n",
    "        \n",
    "        \n",
    "# Plot\n",
    "plt.plot([0, 1], [0, 1], 'k--')\n",
    "plt.xlim([0.0, 1.0])\n",
    "plt.ylim([0.0, 1.05])\n",
    "plt.xlabel('False Positive Rate')\n",
    "plt.ylabel('True Positive Rate')\n",
    "plt.title('Soft Model ROC Curve')\n",
    "plt.legend(loc=\"lower right\")\n",
    "plt.show()"
   ]
  },
  {
   "cell_type": "markdown",
   "metadata": {
    "_cell_guid": "689a3276-c03d-421c-a001-07fac6ee331e",
    "_uuid": "8e43481d9d32fb80e5f692ff52223dd323b810b6"
   },
   "source": [
    "## Sklearn Voter Pipeline\n",
    "\n",
    "Talking about pipelines, Sklearn's ensemble voting is structured as one!"
   ]
  },
  {
   "cell_type": "code",
   "execution_count": null,
   "metadata": {
    "_cell_guid": "37da8077-fa8c-4bb3-a631-1914954012de",
    "_uuid": "76959007125e50dc6a4b527b2f3aa93dd0150506",
    "collapsed": true
   },
   "outputs": [],
   "source": [
    "voters.get('10-VM-Ensemble Hard Voting')"
   ]
  },
  {
   "cell_type": "markdown",
   "metadata": {
    "_cell_guid": "5c5a58a8-bdfb-4e15-8e69-b4887a381fe9",
    "_uuid": "d0e5f010ee8d134e711c3ef48ac1d4a9c1405668"
   },
   "source": [
    "## Stacking Models\n",
    "<a id=\"Stack\"></a>\n",
    "“Stacking is a way of combining multiple models, that introduces the concept of a meta learner. It is less widely used than bagging and boosting. Unlike bagging and boosting, stacking may be (and normally is) used to combine models of different types.” - [Anshul Joshi](https://www.quora.com/What-is-stacking-in-machine-learning )\n",
    "\n",
    "Big shoutout to Manohar Swamynathan, author of Mastering Machine Learning with Python in Six Steps, who [eloquently explains](https://github.com/Apress/mastering-ml-w-python-in-six-steps/blob/master/Chapter_4_Code/Code/Stacking.ipynb) and took me step by step through stacks in Python. \n",
    "\n",
    "Next: <br>\n",
    "Could target high false negative through stacking methods, since it builds models off model weakness."
   ]
  },
  {
   "cell_type": "code",
   "execution_count": null,
   "metadata": {
    "_cell_guid": "a495a513-9c39-48cf-aab8-cdb0d3626308",
    "_uuid": "5db881938aacb5a38bbb648adb0e125a8a41e9e1",
    "collapsed": true
   },
   "outputs": [],
   "source": [
    "Xstack = X.copy()\n",
    "ystack = y.copy()\n",
    "X_trainstack = X_train.copy()\n",
    "X_teststack = X_test.copy()\n",
    "y_trainstack = y_train.copy()\n",
    "y_teststack = y_test.copy()"
   ]
  },
  {
   "cell_type": "code",
   "execution_count": null,
   "metadata": {
    "_cell_guid": "3d485f2d-9a81-443a-8df4-38d3fac40ed5",
    "_uuid": "3e7b80715b2b3b90df7320a167607a1c0ba7625d",
    "collapsed": true
   },
   "outputs": [],
   "source": [
    "warnings.filterwarnings(action='ignore', category=DeprecationWarning)\n",
    "from sklearn import cross_validation\n",
    "kfold = cross_validation.StratifiedKFold(y=y_trainstack, n_folds=5, random_state=rstate)\n",
    "num_trees = 10\n",
    "verbose = True # to print the progress\n",
    "\n",
    "clfs = [ensemble_models.get('KNN'),\n",
    "        ensemble_models.get('Sci_kit XGB')]\n",
    "\n",
    "# Creating train and test sets for blending\n",
    "dataset_blend_train = np.zeros((X_trainstack.shape[0], len(clfs)))\n",
    "dataset_blend_test = np.zeros((X_teststack.shape[0], len(clfs)))\n",
    "dataset_blend_test_df = np.zeros((test_df.shape[0], len(clfs)))\n",
    "\n",
    "print('5-fold cross validation:')\n",
    "for i, clf in enumerate(clfs):   \n",
    "    scores = cross_validation.cross_val_score(clf, X_trainstack, y_trainstack, cv=kfold, scoring='accuracy')\n",
    "    print(\"##### Base Model %0.0f #####\" % i)\n",
    "    print(\"Train CV Accuracy: %0.2f (+/- %0.2f)\" % (scores.mean(), scores.std()))\n",
    "    clf.fit(X_trainstack, y_trainstack)   \n",
    "    print(\"Train Accuracy: %0.2f \" % (metrics.accuracy_score(clf.predict(X_trainstack), y_trainstack)))\n",
    "    dataset_blend_train[:,i] = clf.predict_proba(X_trainstack)[:, 1]\n",
    "    dataset_blend_test[:,i] = clf.predict_proba(X_teststack)[:, 1]\n",
    "    dataset_blend_test_df[:,i] = clf.predict_proba(test_df)[:, 1]\n",
    "    print(\"Test Accuracy: %0.2f \\n\" % (metrics.accuracy_score(clf.predict(X_teststack), y_teststack)))    \n",
    "\n",
    "print(\"##### Meta Model #####\")\n",
    "clf = LogisticRegression()\n",
    "scores = cross_validation.cross_val_score(clf, dataset_blend_train, y_trainstack, cv=kfold, scoring=scoring)\n",
    "clf.fit(dataset_blend_train, y_trainstack)\n",
    "print(\"Train CV Accuracy: %0.2f (+/- %0.2f)\" % (scores.mean(), scores.std()))\n",
    "print(\"Train Accuracy: %0.2f \" % (metrics.accuracy_score(clf.predict(dataset_blend_train), y_trainstack)))\n",
    "print(\"Test Accuracy: %0.2f \" % (metrics.accuracy_score(clf.predict(dataset_blend_test), y_teststack)))\n",
    "\n",
    "# Correlate Results\n",
    "#test_hard_pred_matrix = pd.concat((test_hard_pred_matrix, pd.DataFrame({label: clf.predict(dataset_blend_test_df)})), axis=1)\n",
    "#train_hard_pred_matrix = pd.concat((train_hard_pred_matrix, pd.DataFrame({label: model.predict(dataset_blend_train)})), axis=1)\n",
    "\n",
    "# Save\n",
    "if save == True:\n",
    "    pd.DataFrame({'PassengerId':test_df.index, \n",
    "        'Survived':clf.predict(dataset_blend_test_df)}).to_csv(\n",
    "        \"{}.csv\".format(\"Stacked\"),header=True,index=False)"
   ]
  },
  {
   "cell_type": "code",
   "execution_count": null,
   "metadata": {
    "_cell_guid": "63bf9cb4-378a-4159-95e3-600211594864",
    "_uuid": "dc59fc9f3038e36a85cebb6f2749c8885e1c7e97",
    "collapsed": true
   },
   "outputs": [],
   "source": [
    "score = cross_val_score(clf, X, y, cv=cv, scoring=scoring)\n",
    "norm_save(clf, score, \"stacked\")\n",
    "eval_plot(clf)"
   ]
  },
  {
   "cell_type": "markdown",
   "metadata": {
    "_cell_guid": "2bfcbd73-da9d-4196-8668-8ba31aa38fc1",
    "_uuid": "85d5d6c8253c66f385d12bdd6961792749566af2"
   },
   "source": [
    "### Output Submission Matrix for Experimental Stacking\n",
    "\n",
    "[Notebootk: Experimenting with Classification Stacking](https://www.kaggle.com/nicapotato/experimenting-with-classification-stacking/)"
   ]
  },
  {
   "cell_type": "code",
   "execution_count": null,
   "metadata": {
    "_cell_guid": "88ae339a-2ddd-4cea-8c46-a0d60b3405c9",
    "_uuid": "5b2a88f4bf84c08cb0137cf7168fe6d0fafd94dd",
    "collapsed": true
   },
   "outputs": [],
   "source": [
    "# Add Validation Set\n",
    "# Train Prep\n",
    "train_hard_pred_matrix = train_hard_pred_matrix.set_index([traindex])\n",
    "train_hard_pred_matrix = pd.concat([train_hard_pred_matrix, Survived], axis=1)\n",
    "valid_hard_pred_matrix = valid_hard_pred_matrix.set_index([X_test.index])\n",
    "valid_hard_pred_matrix = pd.concat([valid_hard_pred_matrix, Survived[X_test.index]], axis=1)\n",
    "\n",
    "# Soft\n",
    "train_soft_pred_matrix = train_soft_pred_matrix.set_index([traindex])\n",
    "train_soft_pred_matrix = pd.concat([train_soft_pred_matrix, Survived], axis=1)\n",
    "valid_soft_pred_matrix = valid_soft_pred_matrix.set_index([X_test.index])\n",
    "valid_soft_pred_matrix = pd.concat([valid_soft_pred_matrix, Survived[X_test.index]], axis=1)\n",
    "\n",
    "# Test Prep\n",
    "test_hard_pred_matrix = test_hard_pred_matrix.set_index([testdex])\n",
    "valid_hard_pred_matrix = valid_hard_pred_matrix.set_index([X_test.index])\n",
    "# Soft\n",
    "test_soft_pred_matrix = test_soft_pred_matrix.set_index([testdex])\n",
    "valid_soft_pred_matrix = valid_soft_pred_matrix.set_index([X_test.index])\n",
    "\n",
    "# OUTPUT SUBMISSION RESULTS\n",
    "# Test\n",
    "test_hard_pred_matrix.to_csv(\"test_hard_pred_matrix.csv\")\n",
    "test_soft_pred_matrix.to_csv(\"test_soft_pred_matrix.csv\")\n",
    "valid_soft_pred_matrix.to_csv(\"valid_soft_pred_matrix.csv\")\n",
    "\n",
    "# Train\n",
    "train_hard_pred_matrix.to_csv(\"train_hard_pred_matrix.csv\")\n",
    "train_soft_pred_matrix.to_csv(\"train_soft_pred_matrix.csv\")\n",
    "valid_soft_pred_matrix.to_csv(\"valid_soft_pred_matrix.csv\")"
   ]
  },
  {
   "cell_type": "markdown",
   "metadata": {
    "_cell_guid": "216527f3-a047-4542-b634-6606aba77cd0",
    "_uuid": "0cf1b4c890fabfdf6f35c6e658207c22676b8bc9"
   },
   "source": [
    "## Table of Results\n",
    "<a id=\"TOR\"></a>\n",
    "\n",
    "**Sorted by Cross Validated Mean Score**"
   ]
  },
  {
   "cell_type": "code",
   "execution_count": null,
   "metadata": {
    "_cell_guid": "6c0f4122-2c8a-4794-8bc7-2fb165e8e1eb",
    "_uuid": "174383902594b68a447b0ac519df52fc0456774d",
    "collapsed": true
   },
   "outputs": [],
   "source": [
    "results.sort_values(by=[\"Test_Score\"], ascending=False, inplace=True)\n",
    "results.to_csv(\"titanic_clf_results.csv\", index=False)\n",
    "results"
   ]
  },
  {
   "cell_type": "markdown",
   "metadata": {
    "_uuid": "e807a9a6a611c06386179aded989e4b8aab9b474"
   },
   "source": [
    "## Supervised Learning Stacker\n",
    "\n",
    "**Prepare Data- Combine Original Features with Predictions and Meta-Prediction features**"
   ]
  },
  {
   "cell_type": "code",
   "execution_count": null,
   "metadata": {
    "_uuid": "2688bd610ad3bab940f9f94f8bed5ef10b7600c2",
    "collapsed": true
   },
   "outputs": [],
   "source": [
    "valid_soft_pred_matrix.head()"
   ]
  },
  {
   "cell_type": "code",
   "execution_count": null,
   "metadata": {
    "_uuid": "fc6c282232c88f1faf2b196445f4c42915f208d1",
    "collapsed": true
   },
   "outputs": [],
   "source": [
    "top_models = [x for x in valid_soft_pred_matrix.columns\n",
    "              if x in list(results.sort_values(by=\"CV Mean\",ascending = False).Model[:15])]"
   ]
  },
  {
   "cell_type": "code",
   "execution_count": null,
   "metadata": {
    "_uuid": "5b224de8a8a3ec0118d2a581607018a367c489de",
    "collapsed": true
   },
   "outputs": [],
   "source": [
    "top_models = [x for x in valid_soft_pred_matrix.columns\n",
    "              if x in list(results.sort_values(by=\"CV Mean\",ascending = False).Model[:15])]\n",
    "print(\"Models Chosen: \",top_models)\n",
    "valid_soft_pred_matrix = valid_soft_pred_matrix[top_models]\n",
    "test_soft_pred_matrix = test_soft_pred_matrix[top_models]\n",
    "# Prepare Data\n",
    "pred_cols = list(valid_soft_pred_matrix.columns)\n",
    "\n",
    "def stack_features(tempdf):\n",
    "    tempdf['max'] = np.max(np.array([tempdf[col] for col in pred_cols]),axis=0)\n",
    "    tempdf['min'] = np.min(np.array([tempdf[col] for col in pred_cols]),axis=0)\n",
    "    tempdf['avg'] = np.mean(np.array([tempdf[col] for col in pred_cols]),axis=0)\n",
    "    tempdf['med'] = np.median(np.array([tempdf[col] for col in pred_cols]),axis=0)\n",
    "    tempdf['std'] = np.std(np.array([tempdf[col] for col in pred_cols]),axis=0)\n",
    "    \n",
    "    for p1, p2 in itertools.combinations(pred_cols, 2):\n",
    "        tempdf['difference_%s__%s'%(p1,p2)] = tempdf[p2] - tempdf[p1]\n",
    "        tempdf['sums_%s__%s'%(p1,p2)] = tempdf[p2] + tempdf[p1]\n",
    "    return tempdf"
   ]
  },
  {
   "cell_type": "code",
   "execution_count": null,
   "metadata": {
    "_uuid": "55d76b417583e41ed3fcf0d8afacf4e760cdf66d",
    "collapsed": true
   },
   "outputs": [],
   "source": [
    "# Create Features\n",
    "all_soft_preds = pd.concat([valid_soft_pred_matrix, test_soft_pred_matrix],axis=0)\n",
    "all_soft_preds = stack_features(all_soft_preds)\n",
    "\n",
    "valid_soft_pred_matrix = all_soft_preds.loc[X_test.index, :]\n",
    "test_soft_pred_matrix = all_soft_preds.loc[testdex, :]\n",
    "\n",
    "# Combine with Original Features\n",
    "X_stack = pd.concat([X_test, valid_soft_pred_matrix], axis=1)\n",
    "test_stack = pd.concat([test_df, test_soft_pred_matrix],axis=1)\n",
    "# X_stack = X\n",
    "# test_stack = test_df\n",
    "\n",
    "print(\"Train Shape: \", X_stack.shape)\n",
    "print(\"Test Shape: \", test_stack.shape)\n",
    "\n",
    "# Stratified Train/Test Split\n",
    "y_stack = y[X_test.index]\n",
    "X_stack_train, X_stack_test, y_stack_train, y_stack_test = train_test_split(X_stack, y_stack, test_size=.30, stratify=y_stack,random_state=23)\n",
    "print(X_stack_train.shape, y_stack_train.shape, X_stack_test.shape, y_stack_test.shape)\n",
    "\n",
    "# Lgbm Dataset Formating\n",
    "lgtrain = lgb.Dataset(data = X_stack_train,label = y_stack_train.values, categorical_feature = categorical_features)\n",
    "lgb_results = pd.DataFrame(columns = [\"Rounds\",\"Score\",\"STDV\", \"LB\", \"Parameters\"])\n",
    "fulllgtrain = lgb.Dataset(data = X_stack,label = y_stack.values, categorical_feature = categorical_features)"
   ]
  },
  {
   "cell_type": "markdown",
   "metadata": {
    "_uuid": "52b69991749165bfc22592f00ab82534452163be"
   },
   "source": [
    "### Logistic Regression"
   ]
  },
  {
   "cell_type": "code",
   "execution_count": null,
   "metadata": {
    "_uuid": "15284513d92e83cd82210a0136d309274f6fa37b",
    "collapsed": true
   },
   "outputs": [],
   "source": [
    "# Logistic Stacker\n",
    "from sklearn.linear_model import LogisticRegression\n",
    "model = LogisticRegression()\n",
    "print(\"Mean CV Accuracy:\",cross_val_score(model, X_stack, y_stack, cv=5, scoring=\"accuracy\").mean())\n",
    "\n",
    "# Fit on Full and Submit..\n",
    "model.fit(X_stack, y_stack)\n",
    "logregpred = model.predict(test_stack)\n",
    "submission = pd.DataFrame({'PassengerId':test_stack.index,'Survived':logregpred})\n",
    "submission.to_csv('LogRegStack.csv',index=False)"
   ]
  },
  {
   "cell_type": "markdown",
   "metadata": {
    "_uuid": "7e170ff06a1b97baf84da793df219b2338549e3f"
   },
   "source": [
    "### Light Gradient Boosting Stacker\n",
    "\n",
    "Source: [Darragh Avito Solution](https://github.com/darraghdog/avito-demand/blob/master/stack/L1GBM_1806.ipynb) (Incredible work)"
   ]
  },
  {
   "cell_type": "code",
   "execution_count": null,
   "metadata": {
    "_uuid": "0383b1162db0db8f6174e1a8abf23310c5cf15b5",
    "collapsed": true
   },
   "outputs": [],
   "source": [
    "print(\"Light Gradient Boosting Classifier: \")\n",
    "lgbm_params =  {\n",
    "    'task': 'train',\n",
    "    'boosting_type': 'gbdt',\n",
    "    'objective': 'binary',\n",
    "    'metric': ['binary_logloss'],\n",
    "    \"learning_rate\": 0.05,\n",
    "    \"num_leaves\": 20,\n",
    "    \"max_depth\": 5,\n",
    "#     \"feature_fraction\": 0.5,\n",
    "#     \"bagging_fraction\": 0.5,\n",
    "#     \"reg_alpha\": 0.15,\n",
    "#     \"reg_lambda\": 0.01,\n",
    "    'is_unbalance': True\n",
    "                }"
   ]
  },
  {
   "cell_type": "code",
   "execution_count": null,
   "metadata": {
    "_uuid": "339db09d296a08375c9aae3b5f4e6ab940b61cb9",
    "collapsed": true
   },
   "outputs": [],
   "source": [
    "# Find Optimal Parameters / Boosting Rounds\n",
    "lgb_cv = lgb.cv(\n",
    "    params = lgbm_params,\n",
    "    train_set = lgtrain,\n",
    "    num_boost_round=10000,\n",
    "    stratified=True,\n",
    "    nfold = 5,\n",
    "    verbose_eval=25,\n",
    "    seed = 23,\n",
    "    early_stopping_rounds=75,\n",
    "    categorical_feature= categorical_features)\n",
    "\n",
    "loss = lgbm_params[\"metric\"][0]\n",
    "optimal_rounds = np.argmin(lgb_cv[str(loss) + '-mean'])\n",
    "best_cv_score = round(min(lgb_cv[str(loss) + '-mean']), 7)\n",
    "best_std_score = round(lgb_cv[str(loss) + '-stdv'][optimal_rounds],7)\n",
    "\n",
    "print(\"\\nOptimal Round: {}\\nOptimal Score: {} + {}\".format(\n",
    "    optimal_rounds,best_cv_score,best_std_score))\n",
    "\n",
    "lgb_results = lgb_results.append({\"Rounds\": optimal_rounds,\n",
    "                          \"Score\": best_cv_score,\n",
    "                          \"STDV\": best_std_score,\n",
    "                          \"LB\": None,\n",
    "                          \"Parameters\": lgbm_params}, ignore_index=True)"
   ]
  },
  {
   "cell_type": "code",
   "execution_count": null,
   "metadata": {
    "_uuid": "65d78d9d9e9825f5fd926370dc7ecfe4ea980183",
    "collapsed": true
   },
   "outputs": [],
   "source": [
    "display(lgb_results.sort_values(by=\"Score\",ascending = True))"
   ]
  },
  {
   "cell_type": "code",
   "execution_count": null,
   "metadata": {
    "_uuid": "301714e6f03604d95b8d35361cf8d571f7a56646",
    "collapsed": true
   },
   "outputs": [],
   "source": [
    "# Best Parameters\n",
    "final_model_params = lgb_results.iloc[lgb_results[\"Score\"].idxmin(),:][\"Parameters\"]\n",
    "optimal_rounds = lgb_results.iloc[lgb_results[\"Score\"].idxmin(),:][\"Rounds\"]\n",
    "print(\"Parameters for Final Models:\\n\",final_model_params)\n",
    "print(\"Score: {} +/- {}\".format(lgb_results.iloc[lgb_results[\"Score\"].idxmin(),:][\"Score\"],lgb_results.iloc[lgb_results[\"Score\"].idxmin(),:][\"STDV\"]))\n",
    "print(\"Rounds: \", optimal_rounds)"
   ]
  },
  {
   "cell_type": "code",
   "execution_count": null,
   "metadata": {
    "_uuid": "2f2dcb603c3d11c2ffd03d25976be5968a07dddc",
    "collapsed": true
   },
   "outputs": [],
   "source": [
    "print(\"Find Optimal Cutoff\")\n",
    "lgb_clf = lgb.train(\n",
    "    final_model_params,\n",
    "    lgtrain,\n",
    "    num_boost_round = optimal_rounds + 1,\n",
    "    verbose_eval=100,\n",
    "    categorical_feature= categorical_features)\n",
    "\n",
    "# Best Cutoff Threshold\n",
    "p = lgb_clf.predict(X_stack_test)\n",
    "fpr, tpr, thresholds = metrics.roc_curve(y_stack_test,p)\n",
    "optimal_idx = np.argmax(tpr - fpr)\n",
    "optimal_threshold = thresholds[optimal_idx]\n",
    "print(\"Optimal Threshold: \",optimal_threshold)\n",
    "\n",
    "y_stack_train_pred = (lgb_clf.predict(X_stack_train) > optimal_threshold).astype(int)\n",
    "y_stack_test_pred = (lgb_clf.predict(X_stack_test) > optimal_threshold).astype(int)\n",
    "\n",
    "score= metrics.accuracy_score(y_stack_test_pred, y_stack_test)\n",
    "print(\"\\nLGBM STACKER - CV Train : %.2f\" % score)"
   ]
  },
  {
   "cell_type": "code",
   "execution_count": null,
   "metadata": {
    "_uuid": "36d8bcf75a23c323bf05ae8e8576ba2b2fe128a3",
    "collapsed": true
   },
   "outputs": [],
   "source": [
    "allmodelstart= time.time()\n",
    "all_feature_importance_df  = pd.DataFrame()\n",
    "\n",
    "modelstart= time.time()\n",
    "lgb_clf = lgb.train(\n",
    "    final_model_params,\n",
    "    fulllgtrain,\n",
    "    num_boost_round = optimal_rounds + 1,\n",
    "    verbose_eval=100,\n",
    "    categorical_feature= categorical_features)\n",
    "\n",
    "# Feature Importance\n",
    "fold_importance_df = pd.DataFrame()\n",
    "fold_importance_df[\"feature\"] = X_stack.columns\n",
    "fold_importance_df[\"importance\"] = lgb_clf.feature_importance()\n",
    "all_feature_importance_df = pd.concat([all_feature_importance_df, fold_importance_df], axis=0)\n",
    "\n",
    "lgbmprobpred = lgb_clf.predict(test_stack)\n",
    "lgbmpred = (lgbmprobpred > optimal_threshold).astype(int)\n",
    "submission = pd.DataFrame({'PassengerId':test_stack.index,'Survived':lgbmpred})\n",
    "submission.to_csv('LGBM.csv',index=False)\n",
    "print(\"Model Runtime: %0.2f Minutes\"%((time.time() - modelstart)/60))\n",
    "\n",
    "cols = all_feature_importance_df[[\"feature\", \"importance\"]].groupby(\"feature\").mean().sort_values(\n",
    "    by=\"importance\", ascending=False)[:50].index\n",
    "best_features = all_feature_importance_df.loc[all_feature_importance_df.feature.isin(cols)]\n",
    "plt.figure(figsize=(10,8))\n",
    "sns.barplot(x=\"importance\", y=\"feature\", \n",
    "            data=best_features.sort_values(by=\"importance\", ascending=False))\n",
    "plt.title('LightGBM Features')\n",
    "plt.tight_layout()\n",
    "plt.savefig('lgbm_importances.png')"
   ]
  },
  {
   "cell_type": "markdown",
   "metadata": {
    "_cell_guid": "7091c50e-ae47-43c1-bb9f-d9541585349d",
    "_uuid": "cec170b11f8c354b185b17e622e035e055ff6c4b"
   },
   "source": [
    "## Evalutate LGBM Stacker\n",
    "[Scikit-Plot Documentation](http://scikit-plot.readthedocs.io/en/stable/Quickstart.html)"
   ]
  },
  {
   "cell_type": "code",
   "execution_count": null,
   "metadata": {
    "_cell_guid": "fe0923d8-382d-4e67-a845-17876e3b37e5",
    "_uuid": "36fbc23cb4cd7151a529eba6291f178eb1e330dc",
    "collapsed": true
   },
   "outputs": [],
   "source": [
    "print(\"\\nClassification Report:\")\n",
    "print(classification_report(y_stack_test_pred, y_stack_test))\n",
    "confusion_matrix(y_stack_test, y_stack_test_pred)\n",
    "\n",
    "# Matrix\n",
    "skplt.metrics.plot_confusion_matrix(y_stack_test_pred, y_stack_test, normalize=True)\n",
    "plt.show()"
   ]
  },
  {
   "cell_type": "code",
   "execution_count": null,
   "metadata": {
    "_cell_guid": "878119a5-acb7-4ecc-8b7e-5fde9eedf4f5",
    "_uuid": "c6f614266d711ae691f7d6dec4dc1e6f512fca7f",
    "collapsed": true
   },
   "outputs": [],
   "source": [
    "import time\n",
    "end = time.time()\n",
    "print(\"Notebook took %0.2f minutes to Run\"%((end - start)/60))"
   ]
  },
  {
   "cell_type": "markdown",
   "metadata": {
    "_cell_guid": "e1b67c5d-7d74-449f-b1b9-0a2579ebddaa",
    "_uuid": "249bda30124c8c76c654880300f4bf1815fc1458",
    "collapsed": true
   },
   "source": [
    "### **Reflection**\n",
    "<a id=\"REFL\"></a>\n",
    "A recurrent theme that I have observed is that the accuracy on the testing set is always higher than that of the submission set. This suggests that there is a disconnected representation of the underlying data distributions. A likely contributor to this problem is the quality of pre-processing, whose features appeared to have redundant effects, such as Title and Sex. A quick fix could be dimensionality reduction, but ultimately if proper exploration of features is conducted, then the “garbage in” problem can be minimized.\n",
    "\n",
    "I think for this type of problem, elaborating on the stacked methodology might be key.\n",
    "\n",
    "**On Confusion Matrix** <br>\n",
    "Accross the board, most errors are false negatives. The model expected many of the deceased to have survived. This is perhaps why the ensembling only provided minor improvements, since it combined models with the same underlying prediction problem. \n",
    "\n",
    "\n",
    "**Possible Improvements** <br>\n",
    "- To counter high false negatives, perhaps target *Specificity* (True Negative Rate) with certain models, and ensemble? Wonder what the tradeoff is. Could also experiment with the missclassification by ID (Observation). I tried stacking to get around this problem, but it still persists.\n",
    "- I also want to put more work and research into stacking, since I am (still) utilizing it sub-optimally. \n",
    "- Add shrinkage methods, or dimensionality reduction to reduce redundancy. Since the data is sparse, L1 regularization is better.\n",
    "- Add correlation matrix for the submissions.\n",
    "- Try the Box Cox transformation for continuous variables, instead of sklearn's standard scaler.\n",
    "\n",
    "**The Parameter tuning for most models in this notebook can seriously be improved..**"
   ]
  },
  {
   "cell_type": "code",
   "execution_count": null,
   "metadata": {
    "_cell_guid": "0c7aa816-9786-4133-ab9d-5c43da142f0f",
    "_uuid": "68e08ec6fb29011f0b8eaf98ac9b55fa4fffeca4",
    "collapsed": true
   },
   "outputs": [],
   "source": []
  }
 ],
 "metadata": {
  "kernelspec": {
   "display_name": "Python 3",
   "language": "python",
   "name": "python3"
  },
  "language_info": {
   "codemirror_mode": {
    "name": "ipython",
    "version": 3
   },
   "file_extension": ".py",
   "mimetype": "text/x-python",
   "name": "python",
   "nbconvert_exporter": "python",
   "pygments_lexer": "ipython3",
   "version": "3.6.0"
  }
 },
 "nbformat": 4,
 "nbformat_minor": 1
}
