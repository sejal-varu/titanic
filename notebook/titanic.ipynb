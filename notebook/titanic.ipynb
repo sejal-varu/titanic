{
 "cells": [
  {
   "cell_type": "code",
   "execution_count": 1,
   "metadata": {},
   "outputs": [
    {
     "name": "stderr",
     "output_type": "stream",
     "text": [
      "/home/sejal/anaconda2/envs/home_credit/lib/python3.6/importlib/_bootstrap.py:205: RuntimeWarning: numpy.dtype size changed, may indicate binary incompatibility. Expected 96, got 88\n",
      "  return f(*args, **kwds)\n",
      "/home/sejal/anaconda2/envs/home_credit/lib/python3.6/importlib/_bootstrap.py:205: RuntimeWarning: numpy.dtype size changed, may indicate binary incompatibility. Expected 96, got 88\n",
      "  return f(*args, **kwds)\n",
      "/home/sejal/anaconda2/envs/home_credit/lib/python3.6/importlib/_bootstrap.py:205: RuntimeWarning: numpy.dtype size changed, may indicate binary incompatibility. Expected 96, got 88\n",
      "  return f(*args, **kwds)\n",
      "/home/sejal/anaconda2/envs/home_credit/lib/python3.6/importlib/_bootstrap.py:205: RuntimeWarning: numpy.dtype size changed, may indicate binary incompatibility. Expected 96, got 88\n",
      "  return f(*args, **kwds)\n"
     ]
    }
   ],
   "source": [
    "# numpy and pandas for data manipulation\n",
    "import numpy as np\n",
    "import pandas as pd \n",
    "\n",
    "# sklearn preprocessing for dealing with categorical variables\n",
    "from sklearn.preprocessing import LabelEncoder, StandardScaler, OneHotEncoder, LabelBinarizer\n",
    "\n",
    "# File system manangement\n",
    "import os\n",
    "\n",
    "# matplotlib and seaborn for plotting\n",
    "import matplotlib.pyplot as plt\n",
    "import seaborn as sns\n",
    "from sklearn.metrics import roc_auc_score\n",
    "from sklearn.model_selection import train_test_split\n",
    "from sklearn.pipeline import Pipeline, make_pipeline, FeatureUnion\n",
    "from sklearn.base import BaseEstimator, TransformerMixin, clone\n",
    "from sklearn.preprocessing import MinMaxScaler, Imputer, LabelBinarizer\n",
    "from sklearn.linear_model import LogisticRegression\n",
    "import sys\n",
    "sys.path.insert(0, '../scripts/')\n",
    "\n",
    "#Import custom transformers\n",
    "from data_loader import extract_X_y, splitting, load_data\n",
    "from pipeline_utils import ToDummiesTransformer, TypeSelector,DataFrameFeatureUnion,DropColumnsTransformer, \\\n",
    "ToStandardScaler,DataFrameFunctionTransformer, DropAllZeroTrainColumnsTransformer, MultiColumnLabelEncoder, CustomLabelBinarizer, LabelBinarizerPipelineFriendly, \\\n",
    "DummyEncoder\n",
    "\n",
    "from catboost import CatBoostClassifier, FeaturesData, Pool\n",
    "\n",
    "# Suppress warnings \n",
    "import warnings\n",
    "warnings.filterwarnings('ignore')\n"
   ]
  },
  {
   "cell_type": "code",
   "execution_count": 2,
   "metadata": {},
   "outputs": [
    {
     "name": "stderr",
     "output_type": "stream",
     "text": [
      "INFO:data_loader:\n",
      "Timings: 'load_data'  3.08 ms\n",
      "INFO:data_loader:\n",
      "Timings: 'extract_X_y'  1.98 ms\n",
      "INFO:data_loader:\n",
      "Timings: 'splitting'  59.71 ms\n"
     ]
    }
   ],
   "source": [
    "data_path = '../data/train.csv'\n",
    "data_path_pkl = '../data/train.pkl'\n",
    "\n",
    "fulldata = load_data(data_path, data_path_pkl)\n",
    "X, y = extract_X_y(fulldata)\n",
    "X_train, X_val, y_train, y_val = splitting(X, y, val_split=0.2, random_state=42)"
   ]
  },
  {
   "cell_type": "markdown",
   "metadata": {},
   "source": [
    "### Make Pipeline"
   ]
  },
  {
   "cell_type": "code",
   "execution_count": 3,
   "metadata": {},
   "outputs": [
    {
     "data": {
      "text/html": [
       "<div>\n",
       "<style scoped>\n",
       "    .dataframe tbody tr th:only-of-type {\n",
       "        vertical-align: middle;\n",
       "    }\n",
       "\n",
       "    .dataframe tbody tr th {\n",
       "        vertical-align: top;\n",
       "    }\n",
       "\n",
       "    .dataframe thead th {\n",
       "        text-align: right;\n",
       "    }\n",
       "</style>\n",
       "<table border=\"1\" class=\"dataframe\">\n",
       "  <thead>\n",
       "    <tr style=\"text-align: right;\">\n",
       "      <th></th>\n",
       "      <th>PassengerId</th>\n",
       "      <th>Pclass</th>\n",
       "      <th>Name</th>\n",
       "      <th>Sex</th>\n",
       "      <th>Age</th>\n",
       "      <th>SibSp</th>\n",
       "      <th>Parch</th>\n",
       "      <th>Ticket</th>\n",
       "      <th>Fare</th>\n",
       "      <th>Cabin</th>\n",
       "      <th>Embarked</th>\n",
       "    </tr>\n",
       "  </thead>\n",
       "  <tbody>\n",
       "    <tr>\n",
       "      <th>331</th>\n",
       "      <td>332</td>\n",
       "      <td>1</td>\n",
       "      <td>Partner, Mr. Austen</td>\n",
       "      <td>male</td>\n",
       "      <td>45.5</td>\n",
       "      <td>0</td>\n",
       "      <td>0</td>\n",
       "      <td>113043</td>\n",
       "      <td>28.5000</td>\n",
       "      <td>C124</td>\n",
       "      <td>S</td>\n",
       "    </tr>\n",
       "    <tr>\n",
       "      <th>733</th>\n",
       "      <td>734</td>\n",
       "      <td>2</td>\n",
       "      <td>Berriman, Mr. William John</td>\n",
       "      <td>male</td>\n",
       "      <td>23.0</td>\n",
       "      <td>0</td>\n",
       "      <td>0</td>\n",
       "      <td>28425</td>\n",
       "      <td>13.0000</td>\n",
       "      <td>NaN</td>\n",
       "      <td>S</td>\n",
       "    </tr>\n",
       "    <tr>\n",
       "      <th>382</th>\n",
       "      <td>383</td>\n",
       "      <td>3</td>\n",
       "      <td>Tikkanen, Mr. Juho</td>\n",
       "      <td>male</td>\n",
       "      <td>32.0</td>\n",
       "      <td>0</td>\n",
       "      <td>0</td>\n",
       "      <td>STON/O 2. 3101293</td>\n",
       "      <td>7.9250</td>\n",
       "      <td>NaN</td>\n",
       "      <td>S</td>\n",
       "    </tr>\n",
       "    <tr>\n",
       "      <th>704</th>\n",
       "      <td>705</td>\n",
       "      <td>3</td>\n",
       "      <td>Hansen, Mr. Henrik Juul</td>\n",
       "      <td>male</td>\n",
       "      <td>26.0</td>\n",
       "      <td>1</td>\n",
       "      <td>0</td>\n",
       "      <td>350025</td>\n",
       "      <td>7.8542</td>\n",
       "      <td>NaN</td>\n",
       "      <td>S</td>\n",
       "    </tr>\n",
       "    <tr>\n",
       "      <th>813</th>\n",
       "      <td>814</td>\n",
       "      <td>3</td>\n",
       "      <td>Andersson, Miss. Ebba Iris Alfrida</td>\n",
       "      <td>female</td>\n",
       "      <td>6.0</td>\n",
       "      <td>4</td>\n",
       "      <td>2</td>\n",
       "      <td>347082</td>\n",
       "      <td>31.2750</td>\n",
       "      <td>NaN</td>\n",
       "      <td>S</td>\n",
       "    </tr>\n",
       "  </tbody>\n",
       "</table>\n",
       "</div>"
      ],
      "text/plain": [
       "     PassengerId  Pclass                                Name     Sex   Age  \\\n",
       "331          332       1                 Partner, Mr. Austen    male  45.5   \n",
       "733          734       2          Berriman, Mr. William John    male  23.0   \n",
       "382          383       3                  Tikkanen, Mr. Juho    male  32.0   \n",
       "704          705       3             Hansen, Mr. Henrik Juul    male  26.0   \n",
       "813          814       3  Andersson, Miss. Ebba Iris Alfrida  female   6.0   \n",
       "\n",
       "     SibSp  Parch             Ticket     Fare Cabin Embarked  \n",
       "331      0      0             113043  28.5000  C124        S  \n",
       "733      0      0              28425  13.0000   NaN        S  \n",
       "382      0      0  STON/O 2. 3101293   7.9250   NaN        S  \n",
       "704      1      0             350025   7.8542   NaN        S  \n",
       "813      4      2             347082  31.2750   NaN        S  "
      ]
     },
     "execution_count": 3,
     "metadata": {},
     "output_type": "execute_result"
    }
   ],
   "source": [
    "X_train.head()"
   ]
  },
  {
   "cell_type": "code",
   "execution_count": 4,
   "metadata": {},
   "outputs": [],
   "source": [
    "cat_cols = X_train.select_dtypes(include=[\"object\"]).columns\n",
    "object_levels = np.union1d(X_train[cat_cols].fillna('NAN'), X_val[cat_cols].fillna('NAN'))"
   ]
  },
  {
   "cell_type": "code",
   "execution_count": 5,
   "metadata": {},
   "outputs": [],
   "source": [
    "numerical = make_pipeline(\n",
    "    TypeSelector(\"number\"),\n",
    "    DataFrameFunctionTransformer(func = lambda x: x.astype(np.float64)),\n",
    "    DataFrameFunctionTransformer(func = np.mean, impute=True),\n",
    "    ToStandardScaler()\n",
    ")\n",
    "\n",
    "categorical = make_pipeline(\n",
    "    TypeSelector('object'),\n",
    "    #DataFrameFunctionTransformer(lambda x:x.astype('category', categories=object_levels)),\n",
    "    #ToDummiesTransformer(),\n",
    "    #DropAllZeroTrainColumnsTransformer()\n",
    ")"
   ]
  },
  {
   "cell_type": "code",
   "execution_count": 7,
   "metadata": {},
   "outputs": [],
   "source": [
    "preprocessing_features = DataFrameFeatureUnion([numerical, categorical])"
   ]
  },
  {
   "cell_type": "code",
   "execution_count": 8,
   "metadata": {},
   "outputs": [],
   "source": [
    "classifier_pipeline = make_pipeline(\n",
    "    DropColumnsTransformer(['PassengerId']),\n",
    "    preprocessing_features,\n",
    "    LogisticRegression(random_state=42)\n",
    ")"
   ]
  },
  {
   "cell_type": "code",
   "execution_count": null,
   "metadata": {},
   "outputs": [],
   "source": []
  },
  {
   "cell_type": "code",
   "execution_count": null,
   "metadata": {},
   "outputs": [],
   "source": [
    "classifier_pipeline.fit(X_train, y_train)\n",
    "y_pred = classifier_pipeline.predict_proba(X_val)[:, 1]\n",
    "roc_auc_score(y_val, y_pred)"
   ]
  },
  {
   "cell_type": "code",
   "execution_count": null,
   "metadata": {},
   "outputs": [],
   "source": []
  },
  {
   "cell_type": "code",
   "execution_count": 9,
   "metadata": {},
   "outputs": [],
   "source": [
    "preprocess_df = preprocessing_features.fit_transform(X_train)\n",
    "preprocess_df_test = preprocessing_features.fit_transform(X_val)"
   ]
  },
  {
   "cell_type": "code",
   "execution_count": 79,
   "metadata": {},
   "outputs": [
    {
     "name": "stdout",
     "output_type": "stream",
     "text": [
      "[0, 1, 2, 3, 4, 5, 6, 7, 8, 9, 10]\n"
     ]
    }
   ],
   "source": [
    "num_feature_index = [preprocess_df.columns.get_loc(col) for col in preprocess_df.select_dtypes(include=np.number).columns]\n",
    "cat_feature_index = [preprocess_df.columns.get_loc(col) for col in preprocess_df.select_dtypes(include=np.object).columns]\n"
   ]
  },
  {
   "cell_type": "code",
   "execution_count": 83,
   "metadata": {},
   "outputs": [
    {
     "ename": "CatboostError",
     "evalue": "num_feature_data must be 2D numpy.ndarray, it has shape (6,) instead",
     "output_type": "error",
     "traceback": [
      "\u001b[0;31m---------------------------------------------------------------------------\u001b[0m",
      "\u001b[0;31mCatboostError\u001b[0m                             Traceback (most recent call last)",
      "\u001b[0;32m<ipython-input-83-35018dca68ae>\u001b[0m in \u001b[0;36m<module>\u001b[0;34m()\u001b[0m\n\u001b[1;32m      2\u001b[0m     data=FeaturesData(\n\u001b[1;32m      3\u001b[0m         \u001b[0mnum_feature_data\u001b[0m\u001b[0;34m=\u001b[0m\u001b[0mnp\u001b[0m\u001b[0;34m.\u001b[0m\u001b[0marray\u001b[0m\u001b[0;34m(\u001b[0m\u001b[0mnum_feature_index\u001b[0m\u001b[0;34m,\u001b[0m \u001b[0mdtype\u001b[0m\u001b[0;34m=\u001b[0m\u001b[0mnp\u001b[0m\u001b[0;34m.\u001b[0m\u001b[0mfloat32\u001b[0m\u001b[0;34m)\u001b[0m\u001b[0;34m,\u001b[0m\u001b[0;34m\u001b[0m\u001b[0m\n\u001b[0;32m----> 4\u001b[0;31m         \u001b[0mcat_feature_data\u001b[0m\u001b[0;34m=\u001b[0m\u001b[0mnp\u001b[0m\u001b[0;34m.\u001b[0m\u001b[0marray\u001b[0m\u001b[0;34m(\u001b[0m\u001b[0mcat_feature_index\u001b[0m\u001b[0;34m,\u001b[0m \u001b[0mdtype\u001b[0m\u001b[0;34m=\u001b[0m\u001b[0mnp\u001b[0m\u001b[0;34m.\u001b[0m\u001b[0mfloat32\u001b[0m\u001b[0;34m)\u001b[0m\u001b[0;34m\u001b[0m\u001b[0m\n\u001b[0m\u001b[1;32m      5\u001b[0m     ),\n\u001b[1;32m      6\u001b[0m     \u001b[0mlabel\u001b[0m\u001b[0;34m=\u001b[0m\u001b[0mlist\u001b[0m\u001b[0;34m(\u001b[0m\u001b[0mpreprocess_df\u001b[0m\u001b[0;34m.\u001b[0m\u001b[0mcolumns\u001b[0m\u001b[0;34m)\u001b[0m\u001b[0;34m\u001b[0m\u001b[0m\n",
      "\u001b[0;32m_catboost.pyx\u001b[0m in \u001b[0;36m_catboost.FeaturesData.__init__\u001b[0;34m()\u001b[0m\n",
      "\u001b[0;32m_catboost.pyx\u001b[0m in \u001b[0;36m_catboost.FeaturesData._check_and_set_part\u001b[0;34m()\u001b[0m\n",
      "\u001b[0;31mCatboostError\u001b[0m: num_feature_data must be 2D numpy.ndarray, it has shape (6,) instead"
     ]
    }
   ],
   "source": [
    "train_data = Pool(\n",
    "    data=FeaturesData(\n",
    "        num_feature_data=np.array(num_feature_index, dtype=np.float32),\n",
    "        cat_feature_data=np.array(cat_feature_index, dtype=np.float32)\n",
    "    ),\n",
    "    label=list(preprocess_df.columns)\n",
    ")\n",
    "test_data = Pool(\n",
    "    data=FeaturesData(\n",
    "        num_feature_data=np.array(preprocess_df_test.select_dtypes(include=np.number).columns, dtype=np.float32),\n",
    "        cat_feature_data=np.array(preprocess_df_test.select_dtypes(include=np.object).columns, dtype=np.object)\n",
    "    ),\n",
    "    label=list(preprocess_df_test.columns)\n",
    ")"
   ]
  },
  {
   "cell_type": "code",
   "execution_count": null,
   "metadata": {},
   "outputs": [],
   "source": []
  }
 ],
 "metadata": {
  "kernelspec": {
   "display_name": "Python 3",
   "language": "python",
   "name": "python3"
  },
  "language_info": {
   "codemirror_mode": {
    "name": "ipython",
    "version": 3
   },
   "file_extension": ".py",
   "mimetype": "text/x-python",
   "name": "python",
   "nbconvert_exporter": "python",
   "pygments_lexer": "ipython3",
   "version": "3.6.0"
  }
 },
 "nbformat": 4,
 "nbformat_minor": 2
}
